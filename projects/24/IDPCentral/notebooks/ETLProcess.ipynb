{
 "cells": [
  {
   "cell_type": "markdown",
   "metadata": {},
   "source": [
    "# Converting Scraped Data into IDPcentral Data Model and IDP Knowledge Graph\n",
    "\n",
    "__Authors:__\n",
    "Alasdair J G Gray ([ORCID:0000-0002-5711-4872](http://orcid.org/0000-0002-5711-4872)), _Heriot-Watt University, Edinburgh, UK_\n",
    "\n",
    "Petros Papadopoulos ([ORCID:0000-0002-8110-7576](https://orcid.org/0000-0002-8110-7576)), _Heriot-Watt University, Edinburgh, UK_\n",
    "\n",
    "Ivan Mičetić ([ORCID:0000-0003-1691-8425](https://orcid.org/0000-0003-1691-8425)), _University of Padua, Italy_\n",
    "\n",
    "András Hatos ([ORCID:0000-0001-9224-9820](https://orcid.org/0000-0001-9224-9820)), _University of Padua, Italy_\n",
    "\n",
    "__License:__ Apache 2.0\n",
    "\n",
    "__Acknowledgements:__ This notebook was created during the Virtual BioHackathon-Europe 2020."
   ]
  },
  {
   "cell_type": "markdown",
   "metadata": {},
   "source": [
    "## Introduction\n",
    "\n",
    "IDPCentral is the idea of having a central registry of proteins that are known to be disordered.\n",
    "\n",
    "We aim to populate the content of the registry with Bioschemas markup that has been scraped using the BMUSE tool.\n",
    "\n",
    "This notebook goes through the steps of converting the scraped content into the IDPCentral data model and also generating a Knowledge Graph from the data."
   ]
  },
  {
   "cell_type": "markdown",
   "metadata": {},
   "source": [
    "### Input\n",
    "\n",
    "Scraped data from the following data sources:\n",
    "- [DisProt](https://www.disprot.org/)\n",
    "- [MobiDb](https://mobidb.bio.unipd.it/)\n",
    "- [Protein Ensemble Database](https://proteinensemble.org/) (PED)\n",
    "\n",
    "The data files can be found in this [GitHub directory](https://github.com/elixir-europe/BioHackathon-projects-2020/tree/master/projects/24/IDPCentral/scraped-data). The code in this notebook uses a relative link to retrieve the data files, i.e. `../scraped-data`."
   ]
  },
  {
   "cell_type": "markdown",
   "metadata": {},
   "source": [
    "### Output\n",
    "\n",
    "The two generated knowledge graphs are written to file in the same directory as this notebook:\n",
    "- IDPcentral\n",
    "  - `IDPCentral.jsonld`: JSON-LD serialisation of the triples\n",
    "  - `IDPCentral.nt`: N-TRIPLES serialisation of the triples\n",
    "- IDP Knowledge Graph\n",
    "  - `IDPKG.jsonld`: JSON-LD serialisation of all named graphs\n",
    "  - `IDPKG.nq`: N-QUADS serialisation of all named graphs"
   ]
  },
  {
   "cell_type": "markdown",
   "metadata": {},
   "source": [
    "## Code\n",
    "\n",
    "The following code converts the data scraped using BMUSE into the desired knowledge graphs using the RDFlib python library and its abilities to process SPARQL queries over its internal data model.\n",
    "\n",
    "The generated knowledge graph uses named graphs to track the provenance of where individual statements."
   ]
  },
  {
   "cell_type": "markdown",
   "metadata": {},
   "source": [
    "### Library Imports"
   ]
  },
  {
   "cell_type": "code",
   "execution_count": null,
   "metadata": {},
   "outputs": [],
   "source": [
    "# Import and configure logging library\n",
    "from datetime import datetime\n",
    "import logging\n",
    "logging.basicConfig(\n",
    "    filename='idpETL.log', \n",
    "    filemode='w', \n",
    "    format='%(levelname)s:%(message)s', \n",
    "    level=logging.INFO)\n",
    "logging.info('Starting processing at %s' % datetime.now().time())"
   ]
  },
  {
   "cell_type": "code",
   "execution_count": 2,
   "metadata": {},
   "outputs": [],
   "source": [
    "# Imports from RDFlib\n",
    "from rdflib import ConjunctiveGraph, Dataset, Graph, RDF, URIRef"
   ]
  },
  {
   "cell_type": "code",
   "execution_count": 3,
   "metadata": {},
   "outputs": [],
   "source": [
    "# Import template library for templating queries\n",
    "from string import Template"
   ]
  },
  {
   "cell_type": "code",
   "execution_count": 4,
   "metadata": {},
   "outputs": [],
   "source": [
    "# Import functions for interacting with file directory\n",
    "from glob import glob"
   ]
  },
  {
   "cell_type": "markdown",
   "metadata": {},
   "source": [
    "### Template Queries"
   ]
  },
  {
   "cell_type": "markdown",
   "metadata": {},
   "source": [
    "#### Provenance Query\n",
    "\n",
    "Extracts metadata about where the data has originated and when it was scraped."
   ]
  },
  {
   "cell_type": "code",
   "execution_count": 5,
   "metadata": {},
   "outputs": [],
   "source": [
    "# Query to extract the graph and its metadata\n",
    "provenanceQuery = \"\"\"\n",
    "PREFIX pav: <http://purl.org/pav/>\n",
    "PREFIX prov: <http://www.w3.org/ns/prov#>\n",
    "CONSTRUCT {\n",
    "    ?g pav:retrievedFrom ?source ;\n",
    "        pav:retrievedOn ?date .\n",
    "}\n",
    "WHERE {\n",
    "    ?g pav:retrievedFrom ?source ;\n",
    "        pav:retrievedOn ?date .\n",
    "}\n",
    "\"\"\""
   ]
  },
  {
   "cell_type": "markdown",
   "metadata": {},
   "source": [
    "#### Protein Information Query\n",
    "\n",
    "The following query extracts data from the named graph scraped model, unifies the identifier to the UniProt accession number in the Bioschemas namespace.\n",
    "\n",
    "Query uses `OPTIONAL` clauses throughout since it was found that not all sources comply with the minimal properties of the Bioschemas Protein Profile."
   ]
  },
  {
   "cell_type": "code",
   "execution_count": 6,
   "metadata": {},
   "outputs": [],
   "source": [
    "# Templated query for creating the direct properties for a protein entity\n",
    "proteinQuery = Template(\"\"\"\n",
    "# Query to convert Protein scraped data to a merged named graph\n",
    "# Defensive query: assumes that data does not conform to Protein profile\n",
    "\n",
    "PREFIX bs: <https://bioschemas.org/entity/>\n",
    "PREFIX pav: <http://purl.org/pav/>\n",
    "PREFIX schema: <https://schema.org/>\n",
    "\n",
    "CONSTRUCT {\n",
    "    bs:${bsAccession} a schema:Protein ;\n",
    "        schema:identifier ?identifier ;\n",
    "        schema:name ?name ;\n",
    "        schema:associatedDisease ?associatedDisease ;\n",
    "        schema:description ?description ;\n",
    "        schema:hasSequenceAnnotation ?annotation ;\n",
    "        schema:isEncodedByBioChemEntity ?encodedBy ;\n",
    "        schema:taxonomicRange ?taxonomicRange ;\n",
    "        schema:url ?url ;\n",
    "        schema:alternateName ?alternateName ;\n",
    "        schema:bioChemInteraction ?bioChemInteraction ;\n",
    "        schema:bioChemSimilarity ?bioChemSimilarity ;\n",
    "        schema:hasBioChemEntityPart ?bioChemEntity ;\n",
    "        schema:hasBioPloymerSequence ?sequence ;\n",
    "        schema:hasMolecularFunction ?molFunction ;\n",
    "        schema:hasRepresentation ?representation ;\n",
    "        schema:image ?image ;\n",
    "        schema:isInvolvedInBiologicalProcess ?process ;\n",
    "        schema:isLocatedInSubcellularLocation ?cellularLocation ;\n",
    "        schema:isPartOfBioChemEntity ?parentEntity ;\n",
    "        schema:sameAs ?sameAs , ?s .\n",
    "}\n",
    "WHERE {\n",
    "    GRAPH ?g {\n",
    "# Bioschemas Minimal Properties\n",
    "        ?s a schema:Protein .\n",
    "        OPTIONAL {?s schema:identifier ?identifier }\n",
    "        OPTIONAL {?s schema:name ?name }\n",
    "## Bioschemas Recommended properties\n",
    "        OPTIONAL {?s schema:associatedDisease ?associatedDisease}\n",
    "        OPTIONAL {?s schema:description ?description}\n",
    "        OPTIONAL {?s schema:hasSequenceAnnotation ?annotation }\n",
    "        OPTIONAL {?s schema:isEncodedByBioChemEntity ?encodedBy}\n",
    "        OPTIONAL {?s schema:taxonomicRange ?taxonomicRange }\n",
    "        OPTIONAL {?s schema:url ?url}\n",
    "## Bioschemas Optional properties\n",
    "        OPTIONAL {?s schema:alternateName ?alternateName}\n",
    "        OPTIONAL {?s schema:bioChemInteraction ?bioChemInteraction}\n",
    "        OPTIONAL {?s schema:bioChemSimilarity ?bioChemSimilarity}\n",
    "        OPTIONAL {?s schema:hasBioChemEntityPart ?bioChemEntity}\n",
    "        OPTIONAL {?s schema:hasBioPloymerSequence ?sequence}\n",
    "        OPTIONAL {?s schema:hasMolecularFunction ?molFunction}\n",
    "        OPTIONAL {?s schema:hasRepresentation ?representation }\n",
    "        OPTIONAL {?s schema:image ?image}\n",
    "        OPTIONAL {?s schema:isInvolvedInBiologicalProcess ?process}\n",
    "        OPTIONAL {?s schema:isLocatedInSubcellularLocation ?cellularLocation}\n",
    "        OPTIONAL {?s schema:isPartOfBioChemEntity ?parentEntity}\n",
    "        OPTIONAL {?s schema:sameAs ?sameAs }\n",
    "    }\n",
    "}\n",
    "\"\"\")"
   ]
  },
  {
   "cell_type": "markdown",
   "metadata": {},
   "source": [
    "#### SequenceAnnotation Query\n",
    "\n",
    "Query to extract sequence annotations."
   ]
  },
  {
   "cell_type": "code",
   "execution_count": 7,
   "metadata": {},
   "outputs": [],
   "source": [
    "sequenceAnnotationsQuery = \"\"\"\n",
    "PREFIX schema: <https://schema.org/>\n",
    "CONSTRUCT {\n",
    "  ?s a schema:SequenceAnnotation ;\n",
    "        schema:additionalProperty ?addProp ;\n",
    "        schema:citation ?citation ;\n",
    "        schema:creationMethod ?method ;\n",
    "        schema:description ?description ;\n",
    "        schema:editor ?editor ;\n",
    "        schema:isPartOfBioChemEntity ?bioChemEntity ;\n",
    "        schema:sequenceLocation ?seqLoc .\n",
    "}\n",
    "WHERE {\n",
    "  graph ?g {\n",
    "    ?s a schema:SequenceAnnotation .\n",
    "    OPTIONAL {?s schema:additionalProperty ?addProp }\n",
    "    OPTIONAL {?s schema:citation ?citation }\n",
    "    OPTIONAL {?s schema:creationMethod ?method }\n",
    "    OPTIONAL {?s schema:description ?description }\n",
    "    OPTIONAL {?s schema:editor ?editor }\n",
    "    OPTIONAL {?s schema:isPartOfBioChemEntity ?bioChemEntity }\n",
    "    OPTIONAL {?s schema:sequenceLocation ?seqLoc }\n",
    "  }\n",
    "}\n",
    "\"\"\""
   ]
  },
  {
   "cell_type": "markdown",
   "metadata": {},
   "source": [
    "#### PropertyValue Query\n",
    "\n",
    "Query to extract PropertyValue data."
   ]
  },
  {
   "cell_type": "code",
   "execution_count": 8,
   "metadata": {},
   "outputs": [],
   "source": [
    "propertyValueQuery = \"\"\"\n",
    "PREFIX schema: <https://schema.org/>\n",
    "CONSTRUCT {\n",
    "    ?s a schema:PropertyValue ;\n",
    "        schema:name ?name ;\n",
    "        schema:value ?value .\n",
    "}\n",
    "where {\n",
    "    graph ?g {\n",
    "        ?s a schema:PropertyValue .\n",
    "        OPTIONAL {?s schema:name ?name }\n",
    "        OPTIONAL {?s schema:value ?value }\n",
    "    }\n",
    "}\n",
    "\"\"\""
   ]
  },
  {
   "cell_type": "markdown",
   "metadata": {},
   "source": [
    "#### SequenceRange Query\n",
    "\n",
    "Query to extract SequenceRange data."
   ]
  },
  {
   "cell_type": "code",
   "execution_count": 9,
   "metadata": {},
   "outputs": [],
   "source": [
    "sequenceRangeQuery = \"\"\"\n",
    "PREFIX schema: <https://schema.org/>\n",
    "CONSTRUCT {\n",
    "    ?s a schema:SequenceRange ;\n",
    "        schema:rangeStart ?start ;\n",
    "        schema:rangeEnd ?end .\n",
    "}\n",
    "where {\n",
    "    graph ?g {\n",
    "        ?s a schema:SequenceRange .\n",
    "        OPTIONAL {?s schema:rangeStart ?start }\n",
    "        OPTIONAL {?s schema:rangeEnd ?end}\n",
    "    }\n",
    "}\n",
    "\"\"\""
   ]
  },
  {
   "cell_type": "markdown",
   "metadata": {},
   "source": [
    "#### UniProt ID Query\n",
    "\n",
    "The following query extracts the UniProt IRI, declared using a `schema:sameAs` declaration in the source data. Note that different sources use alternative patterns for the UniProt IRI; the `FILTER` clause matches the following patterns\n",
    "- `https://www.uniprot.org/uniprot/`\n",
    "- `http://purl.uniprot.org/uniprot/`"
   ]
  },
  {
   "cell_type": "code",
   "execution_count": 10,
   "metadata": {},
   "outputs": [],
   "source": [
    "# Query to extract UniProt IRI\n",
    "idQuery = \"\"\"\n",
    "PREFIX schema: <https://schema.org/>\n",
    "SELECT ?proteinIRI ?uniprot\n",
    "WHERE {\n",
    "    GRAPH ?g {\n",
    "        ?proteinIRI a schema:Protein ;\n",
    "            schema:sameAs ?uniprot .\n",
    "        FILTER regex(str(?uniprot), \"^(https://www|http://purl).uniprot.org/uniprot/\")\n",
    "    }\n",
    "}\n",
    "\"\"\""
   ]
  },
  {
   "cell_type": "markdown",
   "metadata": {},
   "source": [
    "#### IDPcentral Simplified Model Query\n",
    "\n",
    "The following query transforms the data into the simplified IDPcentral JSON model."
   ]
  },
  {
   "cell_type": "code",
   "execution_count": 11,
   "metadata": {},
   "outputs": [],
   "source": [
    "# Query to convert the data to simplified IDPcentral model\n",
    "idpQuery = \"\"\"\n",
    "PREFIX idp: <https://example.com/ipd/>\n",
    "PREFIX pav: <http://purl.org/pav/>\n",
    "PREFIX schema: <https://schema.org/>\n",
    "CONSTRUCT {\n",
    "    ?entry_url idp:name ?entry_name ;\n",
    "        idp:identifier ?entry_id ;\n",
    "        idp:sameAs ?uniprot_acc ;\n",
    "        idp:sequence_range [\n",
    "            idp:sequence_id ?sequenceID ;\n",
    "            idp:start ?start ;\n",
    "            idp:end ?end ;\n",
    "            idp:range_annotation ?range_annotation\n",
    "        ] ;\n",
    "        idp:resource_name ?source ;\n",
    "        idp:last_update ?date.\n",
    "}\n",
    "WHERE {\n",
    "    GRAPH ?g {\n",
    "        ?entry_url a schema:Protein ;\n",
    "            schema:identifier ?entry_id ;\n",
    "            schema:hasSequenceAnnotation ?sequenceID ;\n",
    "            schema:sameAs ?uniprot_acc .\n",
    "        OPTIONAL { \n",
    "            ?entry_url schema:name ?entry_name \n",
    "        }\n",
    "        FILTER regex(str(?uniprot_acc), \"^(https://www|http://purl).uniprot.org/uniprot/\")\n",
    "        ?sequenceID schema:sequenceLocation ?sequenceLocation .\n",
    "        OPTIONAL {\n",
    "            ?sequenceID schema:additionalProperty/schema:value/schema:name ?range_annotation \n",
    "        }\n",
    "        ?sequenceLocation schema:rangeStart ?start ;\n",
    "            schema:rangeEnd ?end.\n",
    "        ?g pav:retrievedFrom ?source ;\n",
    "            pav:retrievedOn ?date .\n",
    "    }\n",
    "}\n",
    "\"\"\""
   ]
  },
  {
   "cell_type": "markdown",
   "metadata": {},
   "source": [
    "### Methods"
   ]
  },
  {
   "cell_type": "markdown",
   "metadata": {},
   "source": [
    "#### Create Knowledge Graph Protein Entity \n",
    "\n",
    "The `createKGEntity` method uses the queries above to extract the content from the scraped data and then transform it into data using the common identifier scheme."
   ]
  },
  {
   "cell_type": "code",
   "execution_count": 12,
   "metadata": {},
   "outputs": [],
   "source": [
    "def createKGEntity(g, ds, protein, uniprot, accession):\n",
    "    # Retrieve provenance of crawl and add to default graph\n",
    "    result = g.query(provenanceQuery)\n",
    "    # Insert provenance into default context\n",
    "    for s, p, o in result:\n",
    "        ds.add((s, p, o))\n",
    "        # Store context of crawl\n",
    "        context = (s)\n",
    "    logging.debug('Context %s' % (context))\n",
    "    # Parameterise the query with the proteinIRI and accession\n",
    "    query = proteinQuery.substitute(proteinIRI=protein,bsAccession=accession)\n",
    "    logging.debug('Query: %s' % query)\n",
    "    # Create context in Dataset for the crawled entity\n",
    "    ds_g = ds.graph(URIRef(context))\n",
    "    # Retrieve crawled entity\n",
    "    result = g.query(query)\n",
    "    logging.debug(\"\\tconvert query has %s statements.\" % len(result))\n",
    "    # Add crawled entity to Dataset\n",
    "    ds_g += result\n",
    "    logging.debug('SequenceAnnotation Query: %s' % sequenceAnnotationsQuery)\n",
    "    ds_g += g.query(sequenceAnnotationsQuery)\n",
    "    logging.debug('PropertyValue Query: %s' % propertyValueQuery)\n",
    "    ds_g += g.query(propertyValueQuery)\n",
    "    logging.debug('SequenceRange Query: %s' % sequenceRangeQuery)\n",
    "    ds_g += g.query(sequenceRangeQuery)"
   ]
  },
  {
   "cell_type": "markdown",
   "metadata": {},
   "source": [
    "#### Create IDPcentral Entity\n",
    "\n",
    "The following method uses the IDPcentral query to convert the harvested data into the simplified IDPcentral data model."
   ]
  },
  {
   "cell_type": "code",
   "execution_count": 13,
   "metadata": {},
   "outputs": [],
   "source": [
    "def idpExtraction(g):\n",
    "    logging.debug('Query: %s' % idpQuery)\n",
    "    results = g.query(idpQuery)\n",
    "    logging.debug('\\tQuery has %s statements.' % len(results))\n",
    "    return results"
   ]
  },
  {
   "cell_type": "markdown",
   "metadata": {},
   "source": [
    "#### Process Source Data Files\n",
    "\n",
    "The following method processes the files in the given directory and calls the methods to do the data extraction."
   ]
  },
  {
   "cell_type": "code",
   "execution_count": 14,
   "metadata": {},
   "outputs": [],
   "source": [
    "def processDataFiles(idpKG, idpModel, directoryLocation):\n",
    "    processed = 0\n",
    "    for file in glob(directoryLocation + \"*.nq\"):\n",
    "        logging.info(\"\\tProcessing file: %s\" % file)\n",
    "        g = ConjunctiveGraph()\n",
    "        g.parse(file, format=\"nquads\")\n",
    "        logging.info(\"\\tSource has %s statements.\" % len(g))\n",
    "        # Extract statements for IDPCentral\n",
    "        idpModel += idpExtraction(g)\n",
    "        logging.info(\"\\tIDPcentral has %s statements.\" % len(idpModel))\n",
    "        # Extract data source and UniProt IRIs\n",
    "        results = g.query(idQuery)\n",
    "        logging.info(\"\\tID query result has %s statements.\" % len(results))\n",
    "        # Convert to IDPCentral model\n",
    "        for result in results:\n",
    "            proteinIRI = result['proteinIRI']\n",
    "            uniprotIRI = result['uniprot']\n",
    "            logging.debug(\"\\tProtein: %s\\n\\tUniProt: %s\" % (proteinIRI, uniprotIRI))\n",
    "            \n",
    "            # Extract UniProt accession to use as an identifier in the Bioschemas namespace\n",
    "            uniprotAccession = uniprotIRI[uniprotIRI.rindex('/')+1:]\n",
    "            logging.info('Accession: %s' % uniprotAccession)\n",
    "            \n",
    "            # Create entity for named graph KG approach\n",
    "            createKGEntity(g, idpKG, proteinIRI, uniprotIRI, uniprotAccession)\n",
    "            logging.info(\"\\tIDPKG has %s statements.\" % len(idpKG))\n",
    "        processed += 1\n",
    "    return processed"
   ]
  },
  {
   "cell_type": "markdown",
   "metadata": {},
   "source": [
    "#### Output Knowledge Graphs\n",
    "\n",
    "Writes the knowledge graphs out as n-triples and json-ld files."
   ]
  },
  {
   "cell_type": "code",
   "execution_count": 15,
   "metadata": {},
   "outputs": [],
   "source": [
    "def outputFiles(graph, label):\n",
    "    # print(graph.serialize(format='nt'))\n",
    "    logging.info(\"%s has %s statements.\" % (label, len(graph)))\n",
    "    graph.serialize(label+'.nt', format='nt')\n",
    "    graph.serialize(label+'.jsonld', format='json-ld')\n",
    "    logging.info('Successfully written all triples to %s.nt' % label)"
   ]
  },
  {
   "cell_type": "markdown",
   "metadata": {},
   "source": [
    "### Main Method\n",
    "\n",
    "Processes the n-quad data files and converts them into the two knowledge graphs.\n",
    "\n",
    "Based on the sample source data files, the following output is expected, and tested for by the assert statements.\n",
    "\n",
    "- 8 files to have been procesed\n",
    "  - 3 from DisProt\n",
    "  - 2 from MobiDB\n",
    "  - 3 from PED\n",
    "- IDPKG should have 228 statements\n",
    "  - DisProt\n",
    "    - 53 after 2241.nq\n",
    "    - 91 after 2243.nq\n",
    "    - no additional statements from 2244.nq\n",
    "  - mobiDB\n",
    "    - 116 after 4283.nq\n",
    "    - 134 additional statements from 5729.nq\n",
    "  - PED\n",
    "    - 152 statements after 6000.nq\n",
    "    - 198 statements after 6001.nq\n",
    "    - 222 statements after 5999.nq\n",
    "- IDPCentral should have 68 statements\n",
    "  - DisProt\n",
    "    - 24 after 2241.nq\n",
    "    - 41 after 2243.nq\n",
    "    - no additional statements from 2244.nq\n",
    "  - mobiDB\n",
    "    - 58 after 4283.nq\n",
    "    - 68 additional statements from 5729.nq\n",
    "  - PED\n",
    "    - 76 statements after 6000.nq\n",
    "    - 112 statements after 6001.nq\n",
    "    - 120 statements after 5999.nq"
   ]
  },
  {
   "cell_type": "code",
   "execution_count": 16,
   "metadata": {},
   "outputs": [
    {
     "name": "stdout",
     "output_type": "stream",
     "text": [
      "Processing DisProt...3 files processed\n",
      "Processing MobiDB...2 files processed\n",
      "Processing PED...3 files processed\n",
      "\n",
      "IDPcentral has 120 statements.\n",
      "IDP KG has 228 statements.\n",
      "IDP KG has 8 contexts.\n",
      "IDP contexts: \n",
      "\t<https://bioschemas.org/crawl/v1/proteinensemble/PED00148/20201126/6000> a rdfg:Graph;rdflib:storage [a rdflib:Store;rdfs:label 'IOMemory'].\n",
      "\tNumber of statements 17\n",
      "\t<urn:x-rdflib:default> a rdfg:Graph;rdflib:storage [a rdflib:Store;rdfs:label 'IOMemory'].\n",
      "\tNumber of statements 14\n",
      "\t<https://bioschemas.org/crawl/v1/dev/P03265/20201108/4283> a rdfg:Graph;rdflib:storage [a rdflib:Store;rdfs:label 'IOMemory'].\n",
      "\tNumber of statements 28\n",
      "\t<https://bioschemas.org/crawl/v1/disprot/DP00004/20201108/2243> a rdfg:Graph;rdflib:storage [a rdflib:Store;rdfs:label 'IOMemory'].\n",
      "\tNumber of statements 37\n",
      "\t<https://bioschemas.org/crawl/v1/dev/Q12959/20201109/5729> a rdfg:Graph;rdflib:storage [a rdflib:Store;rdfs:label 'IOMemory'].\n",
      "\tNumber of statements 17\n",
      "\t<https://bioschemas.org/crawl/v1/proteinensemble/PED00001/20201126/5999> a rdfg:Graph;rdflib:storage [a rdflib:Store;rdfs:label 'IOMemory'].\n",
      "\tNumber of statements 23\n",
      "\t<https://bioschemas.org/crawl/v1/disprot/DP00003/20201108/2242> a rdfg:Graph;rdflib:storage [a rdflib:Store;rdfs:label 'IOMemory'].\n",
      "\tNumber of statements 52\n",
      "\t<https://bioschemas.org/crawl/v1/proteinensemble/PED00174/20201126/6001> a rdfg:Graph;rdflib:storage [a rdflib:Store;rdfs:label 'IOMemory'].\n",
      "\tNumber of statements 44\n",
      "\n",
      "IDP ETL process finished successfully!\n"
     ]
    }
   ],
   "source": [
    "# Main control flow of the program\n",
    "\n",
    "# Instantiate Knowledge Graphs\n",
    "idpKG = Dataset()\n",
    "idpModel = Graph()\n",
    "totalProcessed = 0\n",
    "\n",
    "# Process DisProt files\n",
    "print(\"Processing DisProt...\", end='')\n",
    "numberOfFiles = processDataFiles(idpKG, idpModel, \"../scraped-data/disprot/\")\n",
    "print(\"%d files processed\" % numberOfFiles)\n",
    "totalProcessed += numberOfFiles\n",
    "\n",
    "# Process MobiDB files\n",
    "print(\"Processing MobiDB...\", end='')\n",
    "numberOfFiles = processDataFiles(idpKG, idpModel, \"../scraped-data/mobidb/\")\n",
    "print(\"%d files processed\" % numberOfFiles)\n",
    "totalProcessed += numberOfFiles\n",
    "\n",
    "# Process PED files\n",
    "print(\"Processing PED...\", end='')\n",
    "numberOfFiles = processDataFiles(idpKG, idpModel, \"../scraped-data/ped/\")\n",
    "print(\"%d files processed\" % numberOfFiles)\n",
    "totalProcessed += numberOfFiles\n",
    "\n",
    "# Output IDPcentral KG\n",
    "outputFiles(idpModel, \"IDPCentral\")\n",
    "# Output IDP KG\n",
    "idpKG.serialize('IDPKG.nq', format='nquads')\n",
    "idpKG.serialize('IDPKG.jsonld', format='json-ld')\n",
    "\n",
    "logging.info('Processed %d files' % totalProcessed)\n",
    "\n",
    "assert (totalProcessed == 8), \"Expected 8 data files to be present!\"\n",
    "assert (len(idpModel) == 120), \"Expected 120 statements in IDPcentral Model!\"\n",
    "assert (len(idpKG) == 228), \"Expected 228 statements but received %r in IDP KG!\" % len(idpKG)\n",
    "\n",
    "print('\\nIDPcentral has %d statements.' % len(idpModel))\n",
    "print('IDP KG has %d statements.' % len(idpKG))\n",
    "print('IDP KG has %d contexts.' % sum(1 for _ in idpKG.contexts()))\n",
    "assert (sum(1 for _ in idpKG.contexts()) == totalProcessed), \"Expect the number of contexts to be the same as the number of files processed\"\n",
    "print('IDP contexts:', '')\n",
    "for c in idpKG.contexts():\n",
    "    print('\\t%s' % c)\n",
    "    print('\\tNumber of statements %d' % len(c))\n",
    "print('\\nIDP ETL process finished successfully!')"
   ]
  }
 ],
 "metadata": {
  "kernelspec": {
   "display_name": "Python 3",
   "language": "python",
   "name": "python3"
  },
  "language_info": {
   "codemirror_mode": {
    "name": "ipython",
    "version": 3
   },
   "file_extension": ".py",
   "mimetype": "text/x-python",
   "name": "python",
   "nbconvert_exporter": "python",
   "pygments_lexer": "ipython3",
   "version": "3.6.5"
  }
 },
 "nbformat": 4,
 "nbformat_minor": 2
}
