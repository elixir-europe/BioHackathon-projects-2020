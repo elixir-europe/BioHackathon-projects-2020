{
 "cells": [
  {
   "cell_type": "markdown",
   "metadata": {},
   "source": [
    "# Analysis of the IDP Knowledge Graph\n",
    "\n",
    "__Authors:__\n",
    "Alasdair J G Gray ([ORCID:0000-0002-5711-4872](http://orcid.org/0000-0002-5711-4872)), _Heriot-Watt University, Edinburgh, UK_\n",
    "\n",
    "Petros Papadopoulos ([ORCID:0000-0002-8110-7576](https://orcid.org/0000-0002-8110-7576)), _Heriot-Watt University, Edinburgh, UK_\n",
    "\n",
    "Ivan Mičetić ([ORCID:0000-0003-1691-8425](https://orcid.org/0000-0003-1691-8425)), _University of Padua, Italy_\n",
    "\n",
    "Andras Hatos ([ORCID:0000-0001-9224-9820](https://orcid.org/0000-0001-9224-9820)), _University of Padua, Italy_\n",
    "\n",
    "__License:__ Apache 2.0\n",
    "\n",
    "__Acknowledgements:__ This notebook was created during the Virtual BioHackathon-Europe 2020."
   ]
  },
  {
   "cell_type": "markdown",
   "metadata": {},
   "source": [
    "## Introduction\n",
    "\n",
    "This notebook contains SPARQL queries to perform a data analysis of the Intrinsically Disordered Protein (IDP) Knowledge Graph. The IDP knowledge graph was constructed from Bioschemas markup embedded in DisProt, MobiDb, and Protein Ensemble Database (PED) that was harvested using the Bioschemas Markup Scraper and Extractor and converted into a knowledge graph using the process in this [notebook](https://github.com/elixir-europe/BioHackathon-projects-2020/blob/master/projects/24/IDPCentral/notebooks/ETLProcess.ipynb). "
   ]
  },
  {
   "cell_type": "markdown",
   "metadata": {},
   "source": [
    "### Library Imports"
   ]
  },
  {
   "cell_type": "code",
   "execution_count": null,
   "metadata": {},
   "outputs": [],
   "source": [
    "# Import and configure logging library\n",
    "from datetime import datetime\n",
    "import logging\n",
    "logging.basicConfig(\n",
    "    filename='idpQuery.log', \n",
    "    filemode='w', \n",
    "    format='%(levelname)s:%(message)s', \n",
    "    level=logging.INFO)\n",
    "logging.info('Starting processing at %s' % datetime.now().time())"
   ]
  },
  {
   "cell_type": "code",
   "execution_count": 2,
   "metadata": {},
   "outputs": [],
   "source": [
    "# Imports from RDFlib\n",
    "from rdflib import ConjunctiveGraph"
   ]
  },
  {
   "cell_type": "markdown",
   "metadata": {},
   "source": [
    "### Result Display Function\n",
    "\n",
    "The following function takes the results of a `SPARQL SELECT` query and displays them using a HTML table for human viewing."
   ]
  },
  {
   "cell_type": "code",
   "execution_count": 3,
   "metadata": {},
   "outputs": [],
   "source": [
    "def displayResults(queryResult):\n",
    "   from IPython.core.display import display, HTML\n",
    "   HTMLResult = '<table><tr style=\"color:white;background-color:#43BFC7;font-weight:bold\">'\n",
    "   # print variable names and build header:\n",
    "   for varName in queryResult.vars:\n",
    "       HTMLResult = HTMLResult + '<td>' + varName + '</td>'\n",
    "   HTMLResult = HTMLResult + '</tr>'\n",
    "\n",
    "   # print values from each row and build table of results\n",
    "   for row in queryResult:\n",
    "      HTMLResult = HTMLResult + '<tr>'   \n",
    "      for column in row:\n",
    "        #print(\"COLUMN:\", column)\n",
    "        if column is not \"\":\n",
    "             HTMLResult = HTMLResult + '<td>' +  str(column) + '</td>'\n",
    "        else:\n",
    "             HTMLResult = HTMLResult + '<td>' + \"N/A\"+ '</td>'\n",
    "      HTMLResult = HTMLResult + '</tr>'\n",
    "   HTMLResult = HTMLResult + '</table>'\n",
    "   display(HTML(HTMLResult))"
   ]
  },
  {
   "cell_type": "markdown",
   "metadata": {},
   "source": [
    "## Loading IDP-KG\n",
    "\n",
    "The data is read in from an N-QUADS file (`IDPKG.nq`). The data is expected to be in multiple named graphs, based on where the data was extracted from, with provenance data in the default graph."
   ]
  },
  {
   "cell_type": "code",
   "execution_count": 4,
   "metadata": {},
   "outputs": [],
   "source": [
    "idpKG = ConjunctiveGraph()\n",
    "idpKG.parse(\"IDPKG.nq\", format=\"nquads\")\n",
    "logging.info(\"\\tIDP-KG has %s statements.\" % len(idpKG))"
   ]
  },
  {
   "cell_type": "markdown",
   "metadata": {},
   "source": [
    "## Knowledge Graph Statistics\n",
    "\n",
    "This section reports various statistics about the IDP-KG. The choice of statistics was inspired by the [HCLS Dataset Description Community Profile](https://www.w3.org/TR/hcls-dataset/#s6_6)."
   ]
  },
  {
   "cell_type": "markdown",
   "metadata": {},
   "source": [
    "### Number of Triples"
   ]
  },
  {
   "cell_type": "code",
   "execution_count": 5,
   "metadata": {},
   "outputs": [
    {
     "data": {
      "text/html": [
       "<table><tr style=\"color:white;background-color:#43BFC7;font-weight:bold\"><td>triples</td></tr><tr><td>460</td></tr></table>"
      ],
      "text/plain": [
       "<IPython.core.display.HTML object>"
      ]
     },
     "metadata": {},
     "output_type": "display_data"
    }
   ],
   "source": [
    "displayResults(idpKG.query(\"\"\"\n",
    "SELECT (COUNT(*) AS ?triples) \n",
    "WHERE {\n",
    "  { ?s ?p ?o } \n",
    "  UNION \n",
    "  { GRAPH ?g \n",
    "    {?s ?p ?o  }\n",
    "  }\n",
    "}\n",
    "\"\"\"))"
   ]
  },
  {
   "cell_type": "markdown",
   "metadata": {},
   "source": [
    "### Number of Typed Entities\n",
    "\n",
    "Note that we use the `DISTINCT` keyword in the query since the same entity can appear in multiple named graphs."
   ]
  },
  {
   "cell_type": "code",
   "execution_count": 6,
   "metadata": {},
   "outputs": [
    {
     "data": {
      "text/html": [
       "<table><tr style=\"color:white;background-color:#43BFC7;font-weight:bold\"><td>entities</td></tr><tr><td>40</td></tr></table>"
      ],
      "text/plain": [
       "<IPython.core.display.HTML object>"
      ]
     },
     "metadata": {},
     "output_type": "display_data"
    }
   ],
   "source": [
    "displayResults(idpKG.query(\"\"\"\n",
    "SELECT (COUNT(DISTINCT ?s) AS ?entities) \n",
    "WHERE { \n",
    "  { ?s a [] } \n",
    "  UNION \n",
    "  { GRAPH ?g \n",
    "    { ?s a [] }\n",
    "  }\n",
    "}\n",
    "\"\"\"))"
   ]
  },
  {
   "cell_type": "markdown",
   "metadata": {},
   "source": [
    "### Number of Unique Subjects"
   ]
  },
  {
   "cell_type": "code",
   "execution_count": 7,
   "metadata": {},
   "outputs": [
    {
     "data": {
      "text/html": [
       "<table><tr style=\"color:white;background-color:#43BFC7;font-weight:bold\"><td>subjects</td></tr><tr><td>47</td></tr></table>"
      ],
      "text/plain": [
       "<IPython.core.display.HTML object>"
      ]
     },
     "metadata": {},
     "output_type": "display_data"
    }
   ],
   "source": [
    "displayResults(idpKG.query(\"\"\"\n",
    "SELECT (COUNT(DISTINCT ?s) AS ?subjects) \n",
    "WHERE { \n",
    "  { ?s ?p ?o } \n",
    "  UNION \n",
    "  { GRAPH ?g \n",
    "    { ?s ?p ?o }\n",
    "  }\n",
    "}\n",
    "\"\"\"))"
   ]
  },
  {
   "cell_type": "markdown",
   "metadata": {},
   "source": [
    "### Number of Unique Properties"
   ]
  },
  {
   "cell_type": "code",
   "execution_count": 8,
   "metadata": {},
   "outputs": [
    {
     "data": {
      "text/html": [
       "<table><tr style=\"color:white;background-color:#43BFC7;font-weight:bold\"><td>properties</td></tr><tr><td>19</td></tr></table>"
      ],
      "text/plain": [
       "<IPython.core.display.HTML object>"
      ]
     },
     "metadata": {},
     "output_type": "display_data"
    }
   ],
   "source": [
    "displayResults(idpKG.query(\"\"\"\n",
    "SELECT (COUNT(DISTINCT ?p) AS ?properties) \n",
    "WHERE { \n",
    "  { ?s ?p ?o } \n",
    "  UNION \n",
    "  { GRAPH ?g \n",
    "    { ?s ?p ?o }\n",
    "  }\n",
    "}\n",
    "\"\"\"))"
   ]
  },
  {
   "cell_type": "markdown",
   "metadata": {},
   "source": [
    "### Number of Unique Objects"
   ]
  },
  {
   "cell_type": "code",
   "execution_count": 9,
   "metadata": {},
   "outputs": [
    {
     "data": {
      "text/html": [
       "<table><tr style=\"color:white;background-color:#43BFC7;font-weight:bold\"><td>objects</td></tr><tr><td>94</td></tr></table>"
      ],
      "text/plain": [
       "<IPython.core.display.HTML object>"
      ]
     },
     "metadata": {},
     "output_type": "display_data"
    }
   ],
   "source": [
    "displayResults(idpKG.query(\"\"\"\n",
    "SELECT (COUNT(DISTINCT ?o) AS ?objects) \n",
    "WHERE { \n",
    "  { ?s ?p ?o } \n",
    "  UNION \n",
    "  { GRAPH ?g \n",
    "    { ?s ?p ?o }\n",
    "  }\n",
    "  FILTER(!isLiteral(?o))\n",
    "}\n",
    "\"\"\"))"
   ]
  },
  {
   "cell_type": "markdown",
   "metadata": {},
   "source": [
    "### Number of Unique Classes"
   ]
  },
  {
   "cell_type": "code",
   "execution_count": 10,
   "metadata": {},
   "outputs": [
    {
     "data": {
      "text/html": [
       "<table><tr style=\"color:white;background-color:#43BFC7;font-weight:bold\"><td>classes</td></tr><tr><td>4</td></tr></table>"
      ],
      "text/plain": [
       "<IPython.core.display.HTML object>"
      ]
     },
     "metadata": {},
     "output_type": "display_data"
    }
   ],
   "source": [
    "displayResults(idpKG.query(\"\"\"\n",
    "SELECT (COUNT(DISTINCT ?o) AS ?classes) \n",
    "WHERE { \n",
    "  { ?s a ?o } \n",
    "  UNION \n",
    "  { GRAPH ?g \n",
    "    { ?s a ?o }\n",
    "  }\n",
    "}\n",
    "\"\"\"))"
   ]
  },
  {
   "cell_type": "markdown",
   "metadata": {},
   "source": [
    "### Number of Unique Literals"
   ]
  },
  {
   "cell_type": "code",
   "execution_count": 11,
   "metadata": {},
   "outputs": [
    {
     "data": {
      "text/html": [
       "<table><tr style=\"color:white;background-color:#43BFC7;font-weight:bold\"><td>objects</td></tr><tr><td>45</td></tr></table>"
      ],
      "text/plain": [
       "<IPython.core.display.HTML object>"
      ]
     },
     "metadata": {},
     "output_type": "display_data"
    }
   ],
   "source": [
    "displayResults(idpKG.query(\"\"\"\n",
    "SELECT (COUNT(DISTINCT ?o) AS ?objects) \n",
    "WHERE { \n",
    "  { ?s ?p ?o } \n",
    "  UNION \n",
    "  { GRAPH ?g \n",
    "    { ?s ?p ?o }\n",
    "  }\n",
    "  FILTER(isLiteral(?o))\n",
    "}\n",
    "\"\"\"))"
   ]
  },
  {
   "cell_type": "markdown",
   "metadata": {},
   "source": [
    "### Number of Graphs"
   ]
  },
  {
   "cell_type": "code",
   "execution_count": 12,
   "metadata": {},
   "outputs": [
    {
     "data": {
      "text/html": [
       "<table><tr style=\"color:white;background-color:#43BFC7;font-weight:bold\"><td>graphs</td></tr><tr><td>8</td></tr></table>"
      ],
      "text/plain": [
       "<IPython.core.display.HTML object>"
      ]
     },
     "metadata": {},
     "output_type": "display_data"
    }
   ],
   "source": [
    "displayResults(idpKG.query(\"\"\"\n",
    "SELECT (COUNT(DISTINCT ?g) AS ?graphs) \n",
    "WHERE { \n",
    "  GRAPH ?g \n",
    "    { ?s ?p ?o }\n",
    "}\n",
    "\"\"\"))"
   ]
  },
  {
   "cell_type": "markdown",
   "metadata": {},
   "source": [
    "### Instances per Class"
   ]
  },
  {
   "cell_type": "code",
   "execution_count": 13,
   "metadata": {},
   "outputs": [
    {
     "data": {
      "text/html": [
       "<table><tr style=\"color:white;background-color:#43BFC7;font-weight:bold\"><td>Class</td><td>distinctInstances</td></tr><tr><td>https://schema.org/PropertyValue</td><td>8</td></tr><tr><td>https://schema.org/Protein</td><td>7</td></tr><tr><td>https://schema.org/SequenceAnnotation</td><td>12</td></tr><tr><td>https://schema.org/SequenceRange</td><td>13</td></tr></table>"
      ],
      "text/plain": [
       "<IPython.core.display.HTML object>"
      ]
     },
     "metadata": {},
     "output_type": "display_data"
    }
   ],
   "source": [
    "displayResults(idpKG.query(\"\"\"\n",
    "PREFIX schema: <https://schema.org/>\n",
    "PREFIX pav: <http://purl.org/pav/>\n",
    "SELECT ?Class (COUNT(DISTINCT ?s) AS ?distinctInstances) \n",
    "WHERE {\n",
    "    GRAPH ?g {\n",
    "        ?s a ?Class\n",
    "    }\n",
    "} \n",
    "GROUP BY ?Class\n",
    "ORDER BY ?Class\n",
    "\"\"\"))"
   ]
  },
  {
   "cell_type": "markdown",
   "metadata": {},
   "source": [
    "### Properties and their Occurence"
   ]
  },
  {
   "cell_type": "code",
   "execution_count": 14,
   "metadata": {},
   "outputs": [
    {
     "data": {
      "text/html": [
       "<table><tr style=\"color:white;background-color:#43BFC7;font-weight:bold\"><td>p</td><td>triples</td></tr><tr><td>http://purl.org/pav/retrievedFrom</td><td>14</td></tr><tr><td>http://purl.org/pav/retrievedOn</td><td>14</td></tr><tr><td>http://www.w3.org/1999/02/22-rdf-syntax-ns#type</td><td>81</td></tr><tr><td>https://schema.org/additionalProperty</td><td>16</td></tr><tr><td>https://schema.org/citation</td><td>10</td></tr><tr><td>https://schema.org/creationMethod</td><td>62</td></tr><tr><td>https://schema.org/description</td><td>12</td></tr><tr><td>https://schema.org/editor</td><td>10</td></tr><tr><td>https://schema.org/hasRepresentation</td><td>4</td></tr><tr><td>https://schema.org/hasSequenceAnnotation</td><td>28</td></tr><tr><td>https://schema.org/identifier</td><td>20</td></tr><tr><td>https://schema.org/isPartOfBioChemEntity</td><td>18</td></tr><tr><td>https://schema.org/name</td><td>23</td></tr><tr><td>https://schema.org/rangeEnd</td><td>26</td></tr><tr><td>https://schema.org/rangeStart</td><td>26</td></tr><tr><td>https://schema.org/sameAs</td><td>47</td></tr><tr><td>https://schema.org/sequenceLocation</td><td>26</td></tr><tr><td>https://schema.org/taxonomicRange</td><td>7</td></tr><tr><td>https://schema.org/value</td><td>16</td></tr></table>"
      ],
      "text/plain": [
       "<IPython.core.display.HTML object>"
      ]
     },
     "metadata": {},
     "output_type": "display_data"
    }
   ],
   "source": [
    "displayResults(idpKG.query(\"\"\"\n",
    "PREFIX schema: <https://schema.org/>\n",
    "PREFIX pav: <http://purl.org/pav/>\n",
    "SELECT ?p (COUNT(?p) AS ?triples) \n",
    "WHERE {\n",
    "    { ?s ?p ?o }\n",
    "    UNION\n",
    "    {\n",
    "        GRAPH ?g {\n",
    "            ?s ?p ?o\n",
    "        }\n",
    "    }\n",
    "} \n",
    "GROUP BY ?p\n",
    "ORDER BY ?p\n",
    "\"\"\"))"
   ]
  },
  {
   "cell_type": "markdown",
   "metadata": {},
   "source": [
    "### Property, number of unique typed subjects, and triples"
   ]
  },
  {
   "cell_type": "code",
   "execution_count": 15,
   "metadata": {},
   "outputs": [
    {
     "data": {
      "text/html": [
       "<table><tr style=\"color:white;background-color:#43BFC7;font-weight:bold\"><td>scount</td><td>stype</td><td>p</td><td>triples</td></tr><tr><td>8</td><td>https://schema.org/PropertyValue</td><td>http://www.w3.org/1999/02/22-rdf-syntax-ns#type</td><td>16</td></tr><tr><td>8</td><td>https://schema.org/PropertyValue</td><td>https://schema.org/name</td><td>16</td></tr><tr><td>8</td><td>https://schema.org/PropertyValue</td><td>https://schema.org/value</td><td>16</td></tr><tr><td>7</td><td>https://schema.org/Protein</td><td>http://www.w3.org/1999/02/22-rdf-syntax-ns#type</td><td>15</td></tr><tr><td>2</td><td>https://schema.org/Protein</td><td>https://schema.org/hasRepresentation</td><td>4</td></tr><tr><td>7</td><td>https://schema.org/Protein</td><td>https://schema.org/hasSequenceAnnotation</td><td>28</td></tr><tr><td>7</td><td>https://schema.org/Protein</td><td>https://schema.org/identifier</td><td>20</td></tr><tr><td>3</td><td>https://schema.org/Protein</td><td>https://schema.org/name</td><td>7</td></tr><tr><td>7</td><td>https://schema.org/Protein</td><td>https://schema.org/sameAs</td><td>47</td></tr><tr><td>3</td><td>https://schema.org/Protein</td><td>https://schema.org/taxonomicRange</td><td>7</td></tr><tr><td>12</td><td>https://schema.org/SequenceAnnotation</td><td>http://www.w3.org/1999/02/22-rdf-syntax-ns#type</td><td>24</td></tr><tr><td>8</td><td>https://schema.org/SequenceAnnotation</td><td>https://schema.org/additionalProperty</td><td>16</td></tr><tr><td>5</td><td>https://schema.org/SequenceAnnotation</td><td>https://schema.org/citation</td><td>10</td></tr><tr><td>9</td><td>https://schema.org/SequenceAnnotation</td><td>https://schema.org/creationMethod</td><td>62</td></tr><tr><td>6</td><td>https://schema.org/SequenceAnnotation</td><td>https://schema.org/description</td><td>12</td></tr><tr><td>5</td><td>https://schema.org/SequenceAnnotation</td><td>https://schema.org/editor</td><td>10</td></tr><tr><td>9</td><td>https://schema.org/SequenceAnnotation</td><td>https://schema.org/isPartOfBioChemEntity</td><td>18</td></tr><tr><td>12</td><td>https://schema.org/SequenceAnnotation</td><td>https://schema.org/sequenceLocation</td><td>26</td></tr><tr><td>13</td><td>https://schema.org/SequenceRange</td><td>http://www.w3.org/1999/02/22-rdf-syntax-ns#type</td><td>26</td></tr><tr><td>13</td><td>https://schema.org/SequenceRange</td><td>https://schema.org/rangeEnd</td><td>26</td></tr><tr><td>13</td><td>https://schema.org/SequenceRange</td><td>https://schema.org/rangeStart</td><td>26</td></tr></table>"
      ],
      "text/plain": [
       "<IPython.core.display.HTML object>"
      ]
     },
     "metadata": {},
     "output_type": "display_data"
    }
   ],
   "source": [
    "displayResults(idpKG.query(\"\"\"\n",
    "PREFIX schema: <https://schema.org/>\n",
    "PREFIX pav: <http://purl.org/pav/>\n",
    "SELECT (COUNT(DISTINCT ?s) AS ?scount) ?stype ?p (COUNT(?p) AS ?triples) \n",
    "WHERE {\n",
    "    { \n",
    "        ?s ?p ?o .\n",
    "        ?s a ?stype\n",
    "    }\n",
    "    UNION\n",
    "    {\n",
    "        GRAPH ?g {\n",
    "            ?s ?p ?o .\n",
    "            ?s a ?stype \n",
    "        }\n",
    "    }\n",
    "} \n",
    "GROUP BY ?p ?stype\n",
    "ORDER BY ?stype ?p\n",
    "\"\"\"))"
   ]
  },
  {
   "cell_type": "markdown",
   "metadata": {},
   "source": [
    "### Number of Unique Typed Objects Linked to a Property"
   ]
  },
  {
   "cell_type": "code",
   "execution_count": 16,
   "metadata": {},
   "outputs": [
    {
     "data": {
      "text/html": [
       "<table><tr style=\"color:white;background-color:#43BFC7;font-weight:bold\"><td>p</td><td>triples</td><td>otype</td><td>count</td></tr><tr><td>http://purl.org/pav/retrievedFrom</td><td>14</td><td>None</td><td>7</td></tr><tr><td>http://purl.org/pav/retrievedOn</td><td>14</td><td>None</td><td>7</td></tr><tr><td>http://www.w3.org/1999/02/22-rdf-syntax-ns#type</td><td>81</td><td>None</td><td>4</td></tr><tr><td>https://schema.org/additionalProperty</td><td>16</td><td>None</td><td>8</td></tr><tr><td>https://schema.org/citation</td><td>10</td><td>None</td><td>2</td></tr><tr><td>https://schema.org/creationMethod</td><td>62</td><td>None</td><td>21</td></tr><tr><td>https://schema.org/description</td><td>12</td><td>None</td><td>3</td></tr><tr><td>https://schema.org/editor</td><td>10</td><td>None</td><td>2</td></tr><tr><td>https://schema.org/hasRepresentation</td><td>4</td><td>None</td><td>2</td></tr><tr><td>https://schema.org/hasSequenceAnnotation</td><td>28</td><td>None</td><td>12</td></tr><tr><td>https://schema.org/identifier</td><td>20</td><td>None</td><td>8</td></tr><tr><td>https://schema.org/isPartOfBioChemEntity</td><td>18</td><td>None</td><td>5</td></tr><tr><td>https://schema.org/name</td><td>23</td><td>None</td><td>4</td></tr><tr><td>https://schema.org/rangeEnd</td><td>26</td><td>None</td><td>11</td></tr><tr><td>https://schema.org/rangeStart</td><td>26</td><td>None</td><td>10</td></tr><tr><td>https://schema.org/sameAs</td><td>47</td><td>None</td><td>18</td></tr><tr><td>https://schema.org/sequenceLocation</td><td>26</td><td>None</td><td>13</td></tr><tr><td>https://schema.org/taxonomicRange</td><td>7</td><td>None</td><td>2</td></tr><tr><td>https://schema.org/value</td><td>16</td><td>None</td><td>5</td></tr></table>"
      ],
      "text/plain": [
       "<IPython.core.display.HTML object>"
      ]
     },
     "metadata": {},
     "output_type": "display_data"
    }
   ],
   "source": [
    "displayResults(idpKG.query(\"\"\"\n",
    "PREFIX schema: <https://schema.org/>\n",
    "PREFIX pav: <http://purl.org/pav/>\n",
    "SELECT ?p (COUNT(?p) AS ?triples) ?otype (COUNT(DISTINCT ?o) AS ?count)\n",
    "WHERE {\n",
    "    { ?s ?p ?o }\n",
    "    UNION\n",
    "    {\n",
    "        GRAPH ?g {\n",
    "            ?s ?p ?o\n",
    "        }\n",
    "    }\n",
    "} \n",
    "GROUP BY ?p ?otype\n",
    "ORDER BY ?p\n",
    "\"\"\"))"
   ]
  },
  {
   "cell_type": "markdown",
   "metadata": {},
   "source": [
    "### Triples and Number of Unique Literals Related to a Property"
   ]
  },
  {
   "cell_type": "code",
   "execution_count": 17,
   "metadata": {},
   "outputs": [
    {
     "data": {
      "text/html": [
       "<table><tr style=\"color:white;background-color:#43BFC7;font-weight:bold\"><td>p</td><td>triples</td><td>literals</td></tr><tr><td>http://purl.org/pav/retrievedOn</td><td>14</td><td>7</td></tr><tr><td>https://schema.org/description</td><td>12</td><td>3</td></tr><tr><td>https://schema.org/hasRepresentation</td><td>4</td><td>2</td></tr><tr><td>https://schema.org/identifier</td><td>20</td><td>8</td></tr><tr><td>https://schema.org/name</td><td>23</td><td>4</td></tr><tr><td>https://schema.org/rangeEnd</td><td>26</td><td>11</td></tr><tr><td>https://schema.org/rangeStart</td><td>26</td><td>10</td></tr></table>"
      ],
      "text/plain": [
       "<IPython.core.display.HTML object>"
      ]
     },
     "metadata": {},
     "output_type": "display_data"
    }
   ],
   "source": [
    "displayResults(idpKG.query(\"\"\"\n",
    "PREFIX schema: <https://schema.org/>\n",
    "PREFIX pav: <http://purl.org/pav/>\n",
    "SELECT ?p (COUNT(?p) AS ?triples) (COUNT(DISTINCT ?o) AS ?literals)\n",
    "WHERE {\n",
    "    { ?s ?p ?o }\n",
    "    UNION\n",
    "    {\n",
    "        GRAPH ?g {\n",
    "            ?s ?p ?o\n",
    "        }\n",
    "    }\n",
    "    FILTER (isLiteral(?o))\n",
    "} \n",
    "GROUP BY ?p\n",
    "ORDER BY ?p\n",
    "\"\"\"))"
   ]
  },
  {
   "cell_type": "markdown",
   "metadata": {},
   "source": [
    "### Number of Unique Subject Types Linked to Unique Object Types"
   ]
  },
  {
   "cell_type": "code",
   "execution_count": 18,
   "metadata": {},
   "outputs": [
    {
     "data": {
      "text/html": [
       "<table><tr style=\"color:white;background-color:#43BFC7;font-weight:bold\"><td>scount</td><td>stype</td><td>p</td><td>otype</td><td>ocount</td></tr><tr><td>8</td><td>https://schema.org/SequenceAnnotation</td><td>https://schema.org/additionalProperty</td><td>https://schema.org/PropertyValue</td><td>8</td></tr><tr><td>7</td><td>https://schema.org/Protein</td><td>https://schema.org/hasSequenceAnnotation</td><td>https://schema.org/SequenceAnnotation</td><td>12</td></tr><tr><td>12</td><td>https://schema.org/SequenceAnnotation</td><td>https://schema.org/sequenceLocation</td><td>https://schema.org/SequenceRange</td><td>13</td></tr></table>"
      ],
      "text/plain": [
       "<IPython.core.display.HTML object>"
      ]
     },
     "metadata": {},
     "output_type": "display_data"
    }
   ],
   "source": [
    "displayResults(idpKG.query(\"\"\"\n",
    "PREFIX schema: <https://schema.org/>\n",
    "PREFIX pav: <http://purl.org/pav/>\n",
    "SELECT (COUNT(DISTINCT ?s) AS ?scount) ?stype ?p ?otype (COUNT(DISTINCT ?o) AS ?ocount)\n",
    "WHERE {\n",
    "    { \n",
    "        ?s ?p ?o .\n",
    "        ?s a ?stype .\n",
    "        ?o a ?otype .\n",
    "    }\n",
    "    UNION\n",
    "    {\n",
    "        GRAPH ?g {\n",
    "            ?s ?p ?o .\n",
    "            ?s a ?stype .\n",
    "            ?o a ?otype .\n",
    "        }\n",
    "    }\n",
    "} \n",
    "GROUP BY ?p ?stype ?otype\n",
    "ORDER BY ?p\n",
    "\"\"\"))"
   ]
  },
  {
   "cell_type": "markdown",
   "metadata": {},
   "source": [
    "## Find proteins in multiple datasets\n",
    "\n",
    "Provenance information is stored in the default graph as annotations on graph.\n",
    "\n",
    "A protein comes from multiple sources if the triple is found in multiple named graphs. The number of named graphs containing the triple indicates the number of sources containing the triple."
   ]
  },
  {
   "cell_type": "code",
   "execution_count": 19,
   "metadata": {},
   "outputs": [
    {
     "data": {
      "text/html": [
       "<table><tr style=\"color:white;background-color:#43BFC7;font-weight:bold\"><td>protein</td><td>numSources</td><td>sources</td></tr><tr><td>https://bioschemas.org/entity/P03265</td><td>2</td><td>https://dev.mobidb.org/P03265, https://disprot.org/DP00003</td></tr></table>"
      ],
      "text/plain": [
       "<IPython.core.display.HTML object>"
      ]
     },
     "metadata": {},
     "output_type": "display_data"
    }
   ],
   "source": [
    "displayResults(idpKG.query(\"\"\"\n",
    "PREFIX schema: <https://schema.org/>\n",
    "PREFIX pav: <http://purl.org/pav/>\n",
    "SELECT ?protein (COUNT(?g) as ?numSources) (GROUP_CONCAT(?source;SEPARATOR=\", \") AS ?sources)\n",
    "WHERE {\n",
    "    GRAPH ?g {\n",
    "        ?protein a schema:Protein .\n",
    "    }\n",
    "    ?g pav:retrievedFrom ?source .\n",
    "}\n",
    "GROUP BY ?protein\n",
    "HAVING (COUNT(*) > 1)\n",
    "\"\"\"))"
   ]
  },
  {
   "cell_type": "markdown",
   "metadata": {},
   "source": [
    "## Find proteins with annotations in multiple datasets\n",
    "\n",
    "We are looking for annotations where the protein is common but the annotation is different across the datasets.\n",
    "\n",
    "First we'll write a query to find the proteins with annotations and return the provenance of where the annotation has come from."
   ]
  },
  {
   "cell_type": "code",
   "execution_count": 20,
   "metadata": {},
   "outputs": [
    {
     "data": {
      "text/html": [
       "<table><tr style=\"color:white;background-color:#43BFC7;font-weight:bold\"><td>protein</td><td>proteinName</td><td>source1</td><td>annotation1</td><td>annotation2</td><td>source2</td></tr><tr><td>https://bioschemas.org/entity/P03265</td><td>DNA-binding protein</td><td>https://dev.mobidb.org/P03265</td><td>https://mobidb.org/P03265#prediction-disorder-mobidb_lite125_166</td><td>https://disprot.org/DP00003r002</td><td>https://disprot.org/DP00003</td></tr><tr><td>https://bioschemas.org/entity/P03265</td><td>DNA-binding protein</td><td>https://dev.mobidb.org/P03265</td><td>https://mobidb.org/P03265#prediction-disorder-mobidb_lite125_166</td><td>https://disprot.org/DP00003r004</td><td>https://disprot.org/DP00003</td></tr><tr><td>https://bioschemas.org/entity/P03265</td><td>DNA-binding protein</td><td>https://dev.mobidb.org/P03265</td><td>https://mobidb.org/P03265#prediction-disorder-mobidb_lite125_166</td><td>https://disprot.org/DP00003r003</td><td>https://disprot.org/DP00003</td></tr><tr><td>https://bioschemas.org/entity/P03265</td><td>DNA-binding protein</td><td>https://dev.mobidb.org/P03265</td><td>https://mobidb.org/P03265#prediction-disorder-mobidb_lite1_108</td><td>https://disprot.org/DP00003r002</td><td>https://disprot.org/DP00003</td></tr><tr><td>https://bioschemas.org/entity/P03265</td><td>DNA-binding protein</td><td>https://dev.mobidb.org/P03265</td><td>https://mobidb.org/P03265#prediction-disorder-mobidb_lite1_108</td><td>https://disprot.org/DP00003r004</td><td>https://disprot.org/DP00003</td></tr><tr><td>https://bioschemas.org/entity/P03265</td><td>DNA-binding protein</td><td>https://dev.mobidb.org/P03265</td><td>https://mobidb.org/P03265#prediction-disorder-mobidb_lite1_108</td><td>https://disprot.org/DP00003r003</td><td>https://disprot.org/DP00003</td></tr><tr><td>https://bioschemas.org/entity/P03265</td><td>DNA-binding protein</td><td>https://disprot.org/DP00003</td><td>https://disprot.org/DP00003r003</td><td>https://mobidb.org/P03265#prediction-disorder-mobidb_lite125_166</td><td>https://dev.mobidb.org/P03265</td></tr><tr><td>https://bioschemas.org/entity/P03265</td><td>DNA-binding protein</td><td>https://disprot.org/DP00003</td><td>https://disprot.org/DP00003r003</td><td>https://mobidb.org/P03265#prediction-disorder-mobidb_lite1_108</td><td>https://dev.mobidb.org/P03265</td></tr><tr><td>https://bioschemas.org/entity/P03265</td><td>DNA-binding protein</td><td>https://disprot.org/DP00003</td><td>https://disprot.org/DP00003r002</td><td>https://mobidb.org/P03265#prediction-disorder-mobidb_lite125_166</td><td>https://dev.mobidb.org/P03265</td></tr><tr><td>https://bioschemas.org/entity/P03265</td><td>DNA-binding protein</td><td>https://disprot.org/DP00003</td><td>https://disprot.org/DP00003r002</td><td>https://mobidb.org/P03265#prediction-disorder-mobidb_lite1_108</td><td>https://dev.mobidb.org/P03265</td></tr><tr><td>https://bioschemas.org/entity/P03265</td><td>DNA-binding protein</td><td>https://disprot.org/DP00003</td><td>https://disprot.org/DP00003r004</td><td>https://mobidb.org/P03265#prediction-disorder-mobidb_lite125_166</td><td>https://dev.mobidb.org/P03265</td></tr><tr><td>https://bioschemas.org/entity/P03265</td><td>DNA-binding protein</td><td>https://disprot.org/DP00003</td><td>https://disprot.org/DP00003r004</td><td>https://mobidb.org/P03265#prediction-disorder-mobidb_lite1_108</td><td>https://dev.mobidb.org/P03265</td></tr></table>"
      ],
      "text/plain": [
       "<IPython.core.display.HTML object>"
      ]
     },
     "metadata": {},
     "output_type": "display_data"
    }
   ],
   "source": [
    "displayResults(idpKG.query(\"\"\"\n",
    "PREFIX pav: <http://purl.org/pav/>\n",
    "PREFIX schema: <https://schema.org/>\n",
    "SELECT DISTINCT ?protein ?proteinName ?source1 ?annotation1 ?annotation2 ?source2\n",
    "WHERE {\n",
    "    GRAPH ?g1 {\n",
    "        ?protein a schema:Protein ;\n",
    "            schema:hasSequenceAnnotation ?annotation1 .\n",
    "        OPTIONAL {?protein schema:name ?proteinName .}\n",
    "    }\n",
    "    ?g1 pav:retrievedFrom ?source1 .\n",
    "    GRAPH ?g2 {\n",
    "        ?protein a schema:Protein ;\n",
    "            schema:hasSequenceAnnotation ?annotation2\n",
    "    }\n",
    "    ?g2 pav:retrievedFrom ?source2 .\n",
    "    FILTER(?g1 != ?g2)\n",
    "}\n",
    "\"\"\"))"
   ]
  },
  {
   "cell_type": "markdown",
   "metadata": {},
   "source": [
    "The following query finds for each protein, its name (if known), a count of the number of sequence annotations, and a count of the number of sources from which the data has been extracted. Results are only returned if there are annotations from more than one source."
   ]
  },
  {
   "cell_type": "code",
   "execution_count": 21,
   "metadata": {},
   "outputs": [
    {
     "data": {
      "text/html": [
       "<table><tr style=\"color:white;background-color:#43BFC7;font-weight:bold\"><td>protein</td><td>name</td><td>annotationCount</td><td>sourceCount</td></tr><tr><td>https://bioschemas.org/entity/P03265</td><td>DNA-binding protein</td><td>5</td><td>2</td></tr></table>"
      ],
      "text/plain": [
       "<IPython.core.display.HTML object>"
      ]
     },
     "metadata": {},
     "output_type": "display_data"
    }
   ],
   "source": [
    "displayResults(idpKG.query(\"\"\"\n",
    "PREFIX pav: <http://purl.org/pav/>\n",
    "PREFIX schema: <https://schema.org/>\n",
    "SELECT ?protein (SAMPLE(?proteinName) AS ?name) (COUNT(distinct ?annotation) AS ?annotationCount) (COUNT(distinct ?source) AS ?sourceCount)\n",
    "WHERE {\n",
    "    {\n",
    "        SELECT DISTINCT ?protein ?proteinName\n",
    "        WHERE {\n",
    "\t\t    GRAPH ?g {\n",
    "        \t\t?protein a schema:Protein .\n",
    "\t\t        OPTIONAL {?protein schema:name ?proteinName .}\n",
    "\t\t    }\n",
    "        }\n",
    "    }\n",
    "    {\n",
    "\t    SELECT ?annotation ?source ?protein\n",
    "    \tWHERE {\n",
    "        \tGRAPH ?g {\n",
    "            \t?protein schema:hasSequenceAnnotation ?annotation\n",
    "\t        }\n",
    "    \t    ?g pav:retrievedFrom ?source .\n",
    "\t    }\n",
    "    }\n",
    "} \n",
    "GROUP BY ?protein\n",
    "HAVING (COUNT(distinct ?source) > 1)\n",
    "ORDER BY DESC(?annotationCount)\n",
    "\"\"\"))"
   ]
  },
  {
   "cell_type": "markdown",
   "metadata": {},
   "source": [
    "The following varient of the query will list the annotations and the source from which the annotation has come."
   ]
  },
  {
   "cell_type": "code",
   "execution_count": 22,
   "metadata": {},
   "outputs": [
    {
     "data": {
      "text/html": [
       "<table><tr style=\"color:white;background-color:#43BFC7;font-weight:bold\"><td>protein</td><td>proteinName</td><td>annotation</td><td>source</td></tr><tr><td>https://bioschemas.org/entity/P03255</td><td>None</td><td>https://proteinensemble.org/PED00174#SRA_P06400</td><td>https://proteinensemble.org/PED00174</td></tr><tr><td>https://bioschemas.org/entity/P03255</td><td>None</td><td>https://proteinensemble.org/PED00174#SRB_P03255</td><td>https://proteinensemble.org/PED00174</td></tr><tr><td>https://bioschemas.org/entity/P03265</td><td>DNA-binding protein</td><td>https://disprot.org/DP00003r002</td><td>https://disprot.org/DP00003</td></tr><tr><td>https://bioschemas.org/entity/P03265</td><td>DNA-binding protein</td><td>https://disprot.org/DP00003r003</td><td>https://disprot.org/DP00003</td></tr><tr><td>https://bioschemas.org/entity/P03265</td><td>DNA-binding protein</td><td>https://disprot.org/DP00003r004</td><td>https://disprot.org/DP00003</td></tr><tr><td>https://bioschemas.org/entity/P03265</td><td>DNA-binding protein</td><td>https://mobidb.org/P03265#prediction-disorder-mobidb_lite125_166</td><td>https://dev.mobidb.org/P03265</td></tr><tr><td>https://bioschemas.org/entity/P03265</td><td>DNA-binding protein</td><td>https://mobidb.org/P03265#prediction-disorder-mobidb_lite1_108</td><td>https://dev.mobidb.org/P03265</td></tr><tr><td>https://bioschemas.org/entity/P06400</td><td>None</td><td>https://proteinensemble.org/PED00174#SRA_P06400</td><td>https://proteinensemble.org/PED00174</td></tr><tr><td>https://bioschemas.org/entity/P06400</td><td>None</td><td>https://proteinensemble.org/PED00174#SRB_P03255</td><td>https://proteinensemble.org/PED00174</td></tr><tr><td>https://bioschemas.org/entity/P38634</td><td>None</td><td>https://proteinensemble.org/PED00001#SRA_P38634</td><td>https://proteinensemble.org/PED00001</td></tr><tr><td>https://bioschemas.org/entity/P49913</td><td>Cathelicidin antimicrobial peptide</td><td>https://disprot.org/DP00004r001</td><td>https://disprot.org/DP00004</td></tr><tr><td>https://bioschemas.org/entity/P49913</td><td>Cathelicidin antimicrobial peptide</td><td>https://disprot.org/DP00004r002</td><td>https://disprot.org/DP00004</td></tr><tr><td>https://bioschemas.org/entity/P52292</td><td>None</td><td>https://proteinensemble.org/PED00148#SRA_P52292</td><td>https://proteinensemble.org/PED00148</td></tr><tr><td>https://bioschemas.org/entity/Q12959</td><td>Disks large homolog 1</td><td>https://mobidb.org/Q12959prediction-disorder-mobidb_lite662_696</td><td>https://dev.mobidb.org/Q12959</td></tr></table>"
      ],
      "text/plain": [
       "<IPython.core.display.HTML object>"
      ]
     },
     "metadata": {},
     "output_type": "display_data"
    }
   ],
   "source": [
    "displayResults(idpKG.query(\"\"\"\n",
    "PREFIX pav: <http://purl.org/pav/>\n",
    "PREFIX schema: <https://schema.org/>\n",
    "SELECT ?protein ?proteinName ?annotation ?source\n",
    "WHERE {\n",
    "    {\n",
    "        SELECT DISTINCT ?protein ?proteinName\n",
    "        WHERE {\n",
    "\t\t    GRAPH ?g {\n",
    "        \t\t?protein a schema:Protein .\n",
    "\t\t        OPTIONAL {?protein schema:name ?proteinName .}\n",
    "\t\t    }\n",
    "        }\n",
    "    }\n",
    "    {\n",
    "        SELECT ?annotation ?source ?protein\n",
    "        WHERE {\n",
    "            GRAPH ?g {\n",
    "                ?protein schema:hasSequenceAnnotation ?annotation\n",
    "            }\n",
    "            ?g pav:retrievedFrom ?source .\n",
    "        }\n",
    "    }\n",
    "} \n",
    "ORDER BY ?protein ?annotation\n",
    "\"\"\"))"
   ]
  }
 ],
 "metadata": {
  "kernelspec": {
   "display_name": "Python 3",
   "language": "python",
   "name": "python3"
  },
  "language_info": {
   "codemirror_mode": {
    "name": "ipython",
    "version": 3
   },
   "file_extension": ".py",
   "mimetype": "text/x-python",
   "name": "python",
   "nbconvert_exporter": "python",
   "pygments_lexer": "ipython3",
   "version": "3.6.5"
  }
 },
 "nbformat": 4,
 "nbformat_minor": 2
}
