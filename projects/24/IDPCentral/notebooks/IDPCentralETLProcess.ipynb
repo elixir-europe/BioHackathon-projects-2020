{
 "cells": [
  {
   "cell_type": "markdown",
   "metadata": {},
   "source": [
    "# Converting Scraped Data into IDPCentral\n",
    "\n",
    "Alasdair J G Gray ([ORCID:0000-0002-5711-4872](http://orcid.org/0000-0002-5711-4872)), _Heriot-Watt University, Edinburgh, UK_\n",
    "\n",
    "Petros Papadopoulos ([ORCID:0000-0002-8110-7576](https://orcid.org/0000-0002-8110-7576)), _Heriot-Watt University, Edinburgh, UK_\n",
    "\n",
    "Ivan Mičetić ([ORCID:0000-0003-1691-8425](https://orcid.org/0000-0003-1691-8425)), _University of Padua, Italy_\n",
    "\n",
    "Andras Hatos ([ORCID:0000-0001-9224-9820](https://orcid.org/0000-0001-9224-9820)), _University of Padua, Italy_\n",
    "\n",
    "## Introduction\n",
    "\n",
    "IDPCentral is the idea of having a central registry of proteins that are known to be disordered.\n",
    "\n",
    "We aim to populate the content of the registry with Bioschemas markup that has been scraped using the BMUSE tool.\n",
    "\n",
    "This notebook goes through the steps of converting the scraped content into the IDPCentral data model."
   ]
  },
  {
   "cell_type": "markdown",
   "metadata": {},
   "source": [
    "### IDPcentral Minimal Model Generation\n",
    "\n",
    "Data is generated in JSON-LD format to support the IDPcentral UI. This only requires a minimal amount of data to be extracted from the crawls. The generated JSON-LD conforms to the following model.\n",
    "```json\n",
    "{\n",
    "  \"idp:name\" :\n",
    "  \"idp:identifier\" :\n",
    "  \"idp:sameAs\" :\n",
    "  \"idp:sequence_range\" : [\n",
    "    {\n",
    "      \"idp:sequence_id\" :\n",
    "      \"idp:start\" :\n",
    "      \"idp:end\" :\n",
    "      \"idp:range_annotation\" :\n",
    "    }\n",
    "  ]\n",
    "  \"idp:resource_name\" :\n",
    "  \"idp:last_update\" :\n",
    "}\n",
    "```\n",
    "\n",
    "### Knowledge Graph Generation\n",
    "\n",
    "Notebook contains two approaches for extracting data from the crawls.\n",
    "\n",
    "1. Intended to follow Wikidata approach, but limited to including a statement on the data about where it has come from;\n",
    "  - Following types of data are extracted from their sources\n",
    "    - `Protein`: using the Bioschemas Protein Profile ([0.11 RELEASE](https://bioschemas.org/profiles/Protein/0.11-RELEASE/)) as the data model for the information extracted\n",
    "      - Protein identifiers reconciled to create a new Bioschemas Protein using the UniProt accession number as the local ID. This harmonises the proteins across the data sources\n",
    "    - `SequenceAnnotation`: using the properties declared in the Bioschemas SequenceAnnotation ([0.1 DRAFT](https://bioschemas.org/types/SequenceAnnotation/0.1-DRAFT-2019_06_21/)) type\n",
    "      - Source IRIs carried through\n",
    "    - `PropertyValue`: using properties found in the data sources as there is no profile to guide us here\n",
    "      - Source IRIs carried through\n",
    "    - `SequenceRange`: using the properties declared in the Bioschemas SequenceRange ([0.1 DRAFT](https://bioschemas.org/types/SequenceRange/0.1-DRAFT-2019_06_21)) type\n",
    "      - Source IRIs carried through\n",
    "  - Extract metadata as a separate query and include as additional intermediary nodes\n",
    "    - Encoutering problems creating the intermediary nodes, may be better to put KG in named graph and hang metadata off the graph, alhtough this would lose some of the advantages of mixing the data together in one graph\n",
    "    - Hacked a metadata approach that adds the source of the protein data into the Protein extraction query\n",
    "\n",
    "1. Using named graphs for each data crawl with provenance data included in the default graph (idea inspired by Open PHACTS approach to metadata tracking in the data cache).\n",
    "  - Protein information extracted from all three data sources in a single query and stored in corresponding named graph for the page that has been crawled\n",
    "  - Minimal provenance information for each named graph (`retrievedFrom` and `retrievedOn`) added to default graph\n",
    "\n",
    "### To Dos/Issues\n",
    "\n",
    "- ~~Return provenance data to IDPcentral: straightforward add properties from graph~~\n",
    "- ~~Consider changing base namespace for IDPKG graph to either one you own or Wikidata~~\n",
    "  - ~~Is it valid for us to hang our properties off a UniProt ID~~\n",
    "  - ~~If we are using UniProt IDs we need to be consistent in our usage~~\n",
    "  - ~~Using UniProt accession with Bioschemas namespace~~\n",
    "- Add metadata properties and statements for the Wikidata approach\n",
    "  - AG struggling to generate the required UUIDs using rdflib (see description above); probably is possible, but not sure that the benefit we get will be worth it\n",
    "- [ ] Add query to retrieve the proteins that are retrieved from multiple sources over OPS data approach\n",
    "- [ ] Add queries to extract other types of data for the OPS approach\n",
    "- Retrieve UniProt label for IDPcentral using SPARQLWrapper to make external call and add properties\n",
    "- Do we want to connect to Wikidata IDs?\n",
    "- ~~IDPcentral is not getting updated with entries from mobidb~~\n",
    "- MobiDB data getting mangled by BMUSE (currently testing with manually fixed file)\n",
    "  - BMUSE `#` bug being removed; ready to be used for a fresh scrape\n",
    "  - 2020-12 Data sources going to be redeployed without DataRecord. See more details in [Bioschemas#475](https://github.com/BioSchemas/specifications/issues/475). New deployment should be ready early 2021.\n",
    "- Invesitage if [rdf-config](https://github.com/dbcls/rdf-config/blob/master/doc/spec.md) can be used to document the generated KG model\n",
    "- IDPcentral json is not getting any data from PED\n",
    "  - PED does not provide the following properties for the proteins (some of these are available for the structure group but not the individual protein). The relevant query patterns have been made optional.\n",
    "    - name\n",
    "    - additionalProperty\n",
    "  - PED proteins now being included in the IDPcentral json-ld. At the moment the sequence ranges do not have a name associated with them. Checking with Andras and Ivan as to whether the `name` value in the `creationMethod` property should be used for this purpose.\n",
    "  - PED markup being updated. __Wait for fixed markup before progressing this any further.__\n",
    "  "
   ]
  },
  {
   "cell_type": "markdown",
   "metadata": {
    "heading_collapsed": true
   },
   "source": [
    "## IDPKG Data Model\n",
    "\n",
    "The IDPKG data model reuses ideas from [Wikidata](https://www.mediawiki.org/wiki/Wikibase/DataModel) whereby every statement loaded contains a provenance link as to where it was acquired.\n",
    "\n",
    "- [ ] Document IDPCentral Model\n",
    "\n",
    "### Identifiers\n",
    "\n",
    "For the identifiers in the KG we are using the UniProt accession with Bioschemas namespace. This produces unique IRIs that are distinct from UniProts. While this means that there is a level of indirection in the integration, it relies on `sameAs` links, it provides the flexibility to choose whether to combine the data."
   ]
  },
  {
   "cell_type": "markdown",
   "metadata": {
    "heading_collapsed": true
   },
   "source": [
    "## Data Sources\n",
    "\n",
    "The following databases have been scraped to populate IDPCentral\n",
    "- [DisProt](https://www.disprot.org/)\n",
    "- [MobiDb](https://mobidb.bio.unipd.it/)\n",
    "- [Protein Ensemble Database](https://proteinensemble.org/)"
   ]
  },
  {
   "cell_type": "markdown",
   "metadata": {},
   "source": [
    "## Conversion using RDFlib\n",
    "\n",
    "This is an attempt to achieve the same functionality without using a triplestore."
   ]
  },
  {
   "cell_type": "markdown",
   "metadata": {},
   "source": [
    "### Import and configure the logging library"
   ]
  },
  {
   "cell_type": "code",
   "execution_count": null,
   "metadata": {},
   "outputs": [],
   "source": [
    "from datetime import datetime\n",
    "import logging\n",
    "logging.basicConfig(\n",
    "    filename='idpETL.log', \n",
    "    filemode='w', \n",
    "    format='%(levelname)s:%(message)s', \n",
    "    level=logging.INFO)\n",
    "logging.info('Starting processing at %s' % datetime.now().time())"
   ]
  },
  {
   "cell_type": "markdown",
   "metadata": {},
   "source": [
    "Load in the RDFLib library."
   ]
  },
  {
   "cell_type": "code",
   "execution_count": null,
   "metadata": {},
   "outputs": [],
   "source": [
    "from rdflib import ConjunctiveGraph, Dataset, Graph, RDF, URIRef"
   ]
  },
  {
   "cell_type": "markdown",
   "metadata": {},
   "source": [
    "Template library used to template queries."
   ]
  },
  {
   "cell_type": "code",
   "execution_count": null,
   "metadata": {},
   "outputs": [],
   "source": [
    "from string import Template"
   ]
  },
  {
   "cell_type": "markdown",
   "metadata": {},
   "source": [
    "Import functions to list files in directory"
   ]
  },
  {
   "cell_type": "code",
   "execution_count": null,
   "metadata": {},
   "outputs": [],
   "source": [
    "from glob import glob"
   ]
  },
  {
   "cell_type": "markdown",
   "metadata": {},
   "source": [
    "Import the ability to create a UUID"
   ]
  },
  {
   "cell_type": "code",
   "execution_count": null,
   "metadata": {},
   "outputs": [],
   "source": [
    "import uuid"
   ]
  },
  {
   "cell_type": "markdown",
   "metadata": {},
   "source": [
    "### Wikidata Approach\n",
    "\n",
    "Queries and methods for the Wikidata approach of organising the resulting KG."
   ]
  },
  {
   "cell_type": "markdown",
   "metadata": {},
   "source": [
    "Templated query for creating the direct properties for a protein entity, i.e. the data."
   ]
  },
  {
   "cell_type": "code",
   "execution_count": null,
   "metadata": {},
   "outputs": [],
   "source": [
    "proteinQueryWD = Template(\"\"\"\n",
    "# Query to convert DisProt scraped data to IDPCentral model\n",
    "# Defensive query: assumes that data does not conform to Protein profile\n",
    "\n",
    "PREFIX bs: <https://bioschemas.org/entity/>\n",
    "PREFIX pav: <http://purl.org/pav/>\n",
    "PREFIX schema: <https://schema.org/>\n",
    "\n",
    "CONSTRUCT {\n",
    "    bs:${bsAccession} a schema:Protein ;\n",
    "        schema:identifier ?identifier ;\n",
    "        schema:name ?name ;\n",
    "        schema:associatedDisease ?associatedDisease ;\n",
    "        schema:description ?description ;\n",
    "        schema:hasSequenceAnnotation ?annotation ;\n",
    "        schema:isEncodedByBioChemEntity ?encodedBy ;\n",
    "        schema:taxonomicRange ?taxonomicRange ;\n",
    "        schema:url ?url ;\n",
    "        schema:alternateName ?alternateName ;\n",
    "        schema:bioChemInteraction ?bioChemInteraction ;\n",
    "        schema:bioChemSimilarity ?bioChemSimilarity ;\n",
    "        schema:hasBioChemEntityPart ?bioChemEntity ;\n",
    "        schema:hasBioPloymerSequence ?sequence ;\n",
    "        schema:hasMolecularFunction ?molFunction ;\n",
    "        schema:hasRepresentation ?representation ;\n",
    "        schema:image ?image ;\n",
    "        schema:isInvolvedInBiologicalProcess ?process ;\n",
    "        schema:isLocatedInSubcellularLocation ?cellularLocation ;\n",
    "        schema:isPartOfBioChemEntity ?parentEntity ;\n",
    "        schema:sameAs ?sameAs , ?s ;\n",
    "        pav:retrievedFrom ?source.\n",
    "}\n",
    "WHERE {\n",
    "    GRAPH ?g {\n",
    "# Bioschemas Minimal Properties\n",
    "        ?s a schema:Protein .\n",
    "        OPTIONAL {?s schema:identifier ?identifier }\n",
    "        OPTIONAL {?s schema:name ?name }\n",
    "## Bioschemas Recommended properties\n",
    "        OPTIONAL {?s schema:associatedDisease ?associatedDisease}\n",
    "        OPTIONAL {?s schema:description ?description}\n",
    "        OPTIONAL {?s schema:hasSequenceAnnotation ?annotation }\n",
    "        OPTIONAL {?s schema:isEncodedByBioChemEntity ?encodedBy}\n",
    "        OPTIONAL {?s schema:taxonomicRange ?taxonomicRange }\n",
    "        OPTIONAL {?s schema:url ?url}\n",
    "## Bioschemas Optional properties\n",
    "        OPTIONAL {?s schema:alternateName ?alternateName}\n",
    "        OPTIONAL {?s schema:bioChemInteraction ?bioChemInteraction}\n",
    "        OPTIONAL {?s schema:bioChemSimilarity ?bioChemSimilarity}\n",
    "        OPTIONAL {?s schema:hasBioChemEntityPart ?bioChemEntity}\n",
    "        OPTIONAL {?s schema:hasBioPloymerSequence ?sequence}\n",
    "        OPTIONAL {?s schema:hasMolecularFunction ?molFunction}\n",
    "        OPTIONAL {?s schema:hasRepresentation ?representation }\n",
    "        OPTIONAL {?s schema:image ?image}\n",
    "        OPTIONAL {?s schema:isInvolvedInBiologicalProcess ?process}\n",
    "        OPTIONAL {?s schema:isLocatedInSubcellularLocation ?cellularLocation}\n",
    "        OPTIONAL {?s schema:isPartOfBioChemEntity ?parentEntity}\n",
    "        OPTIONAL {?s schema:sameAs ?sameAs }\n",
    "    }\n",
    "    ?g pav:retrievedFrom ?source ;\n",
    "            pav:retrievedOn ?date .\n",
    "}\n",
    "\"\"\")"
   ]
  },
  {
   "cell_type": "markdown",
   "metadata": {},
   "source": [
    "Query to retrieve data about sequence annotations"
   ]
  },
  {
   "cell_type": "code",
   "execution_count": null,
   "metadata": {},
   "outputs": [],
   "source": [
    "sequenceAnnotationsQueryWD = \"\"\"\n",
    "PREFIX schema: <https://schema.org/>\n",
    "CONSTRUCT {\n",
    "  ?s a schema:SequenceAnnotation ;\n",
    "        schema:additionalProperty ?addProp ;\n",
    "        schema:citation ?citation ;\n",
    "        schema:creationMethod ?method ;\n",
    "        schema:description ?description ;\n",
    "        schema:editor ?editor ;\n",
    "        schema:isPartOfBioChemEntity ?bioChemEntity ;\n",
    "        schema:sequenceLocation ?seqLoc .\n",
    "}\n",
    "WHERE {\n",
    "  graph ?g {\n",
    "    ?s a schema:SequenceAnnotation .\n",
    "    OPTIONAL {?s schema:additionalProperty ?addProp }\n",
    "    OPTIONAL {?s schema:citation ?citation }\n",
    "    OPTIONAL {?s schema:creationMethod ?method }\n",
    "    OPTIONAL {?s schema:description ?description }\n",
    "    OPTIONAL {?s schema:editor ?editor }\n",
    "    OPTIONAL {?s schema:isPartOfBioChemEntity ?bioChemEntity }\n",
    "    OPTIONAL {?s schema:sequenceLocation ?seqLoc }\n",
    "  }\n",
    "}\n",
    "\"\"\""
   ]
  },
  {
   "cell_type": "markdown",
   "metadata": {},
   "source": [
    "Retrieve triples about PropertyValues."
   ]
  },
  {
   "cell_type": "code",
   "execution_count": null,
   "metadata": {},
   "outputs": [],
   "source": [
    "propertyValueQueryWD = \"\"\"\n",
    "PREFIX schema: <https://schema.org/>\n",
    "CONSTRUCT {\n",
    "    ?s a schema:PropertyValue ;\n",
    "        schema:name ?name ;\n",
    "        schema:value ?value .\n",
    "}\n",
    "where {\n",
    "    graph ?g {\n",
    "        ?s a schema:PropertyValue .\n",
    "        OPTIONAL {?s schema:name ?name }\n",
    "        OPTIONAL {?s schema:value ?value }\n",
    "    }\n",
    "}\n",
    "\"\"\""
   ]
  },
  {
   "cell_type": "markdown",
   "metadata": {},
   "source": [
    "Retrieve triples about SequenceRange."
   ]
  },
  {
   "cell_type": "code",
   "execution_count": null,
   "metadata": {},
   "outputs": [],
   "source": [
    "sequenceRangeQueryWD = \"\"\"\n",
    "PREFIX schema: <https://schema.org/>\n",
    "CONSTRUCT {\n",
    "    ?s a schema:SequenceRange ;\n",
    "        schema:rangeStart ?start ;\n",
    "        schema:rangeEnd ?end .\n",
    "}\n",
    "where {\n",
    "    graph ?g {\n",
    "        ?s a schema:SequenceRange .\n",
    "        OPTIONAL {?s schema:rangeStart ?start }\n",
    "        OPTIONAL {?s schema:rangeEnd ?end}\n",
    "    }\n",
    "}\n",
    "\"\"\""
   ]
  },
  {
   "cell_type": "markdown",
   "metadata": {},
   "source": [
    "Templated query for creating the links to the provenance for each statement in the KG."
   ]
  },
  {
   "cell_type": "code",
   "execution_count": null,
   "metadata": {},
   "outputs": [],
   "source": [
    "## First attempt\n",
    "# createEntityProvenanceQuery = Template(\"\"\"\n",
    "# PREFIX bs: <https://bioschemas.org/entity/>\n",
    "# PREFIX bsp: <https://bioschemas.org/ns/p/>\n",
    "# PREFIX bss: <https://bioschemas.org/ns/s/>\n",
    "# PREFIX bsr: <https://bioschemas.org/reference/>\n",
    "# PREFIX pav: <http://purl.org/pav/>\n",
    "# PREFIX prov: <http://www.w3.org/ns/prov#>\n",
    "# PREFIX schema: <https://schema.org/>\n",
    "# CONSTRUCT {\n",
    "# #    bs:${bsAccession} a schema:Protein ;\n",
    "# #        schema:identifier ?identifier ;\n",
    "# #        schema:name ?name ;\n",
    "# #        schema:hasSequenceAnnotation ?annotation ;\n",
    "# #        schema:taxonomicRange ?taxonomicRange ;\n",
    "# #        schema:hasRepresentation ?representation ;\n",
    "# #        schema:sameAs ?sameAs , <${proteinIRI}>.\n",
    "#     bs:${bsAccession} bsp:type [\n",
    "#         prov:wasDerivedFrom <${refNodeIRI}> ;\n",
    "#         bss:type schema:Protein\n",
    "#     ] .\n",
    "#     ?refNode pav:retrievedFrom ?source ;\n",
    "#         pav:retrievedOn ?date .\n",
    "# }\n",
    "# WHERE {\n",
    "#     GRAPH ?g {\n",
    "# # Bioschemas Minimal Properties\n",
    "#         <${proteinIRI}> a schema:Protein .#;\n",
    "# #            schema:identifier ?identifier ;\n",
    "# #            schema:name ?name ;\n",
    "# # Bioschemas Recommended properties\n",
    "# #            schema:hasSequenceAnnotation ?annotation ;\n",
    "# #            schema:taxonomicRange ?taxonomicRange ;\n",
    "# # Bioschemas Optional properties\n",
    "# #            schema:sameAs ?sameAs .\n",
    "# #        OPTIONAL {<${proteinIRI}> schema:hasRepresentation ?representation }\n",
    "#         ?g pav:retrievedFrom ?source ;\n",
    "#             pav:retrievedOn ?date .\n",
    "#     }\n",
    "# }\n",
    "# \"\"\")"
   ]
  },
  {
   "cell_type": "code",
   "execution_count": null,
   "metadata": {},
   "outputs": [],
   "source": [
    "createEntityProvenanceQueryWD = Template(\"\"\"\n",
    "PREFIX bs: <https://bioschemas.org/entity/>\n",
    "PREFIX bsp: <https://bioschemas.org/ns/p/>\n",
    "PREFIX bss: <https://bioschemas.org/ns/s/>\n",
    "PREFIX bsr: <https://bioschemas.org/reference/>\n",
    "PREFIX pav: <http://purl.org/pav/>\n",
    "PREFIX prov: <http://www.w3.org/ns/prov#>\n",
    "PREFIX schema: <https://schema.org/>\n",
    "CONSTRUCT {\n",
    "    ?g pav:retrievedFrom ?source ;\n",
    "        pav:retrievedOn ?date .\n",
    "}\n",
    "WHERE {\n",
    "    GRAPH ?g {\n",
    "# Bioschemas Minimal Properties\n",
    "        <${proteinIRI}> a schema:Protein .#;\n",
    "    \n",
    "        ?g pav:retrievedFrom ?source ;\n",
    "            pav:retrievedOn ?date .\n",
    "    }\n",
    "}\n",
    "\"\"\")"
   ]
  },
  {
   "cell_type": "markdown",
   "metadata": {},
   "source": [
    "Method for creating the KG entity and its metadata using the templated queries above."
   ]
  },
  {
   "cell_type": "code",
   "execution_count": null,
   "metadata": {},
   "outputs": [],
   "source": [
    "def createWDKGEntity(g, protein, uniprot, accession):\n",
    "    kgEntity = Graph()\n",
    "    query = proteinQueryWD.substitute(proteinIRI=protein,bsAccession=accession)\n",
    "    logging.debug('Query: %s' % query)\n",
    "    kgEntity += g.query(query)\n",
    "    kgEntity += g.query(sequenceAnnotationsQueryWD)\n",
    "    logging.debug('SequenceAnnotation Query: %s' % sequenceAnnotationsQueryWD)\n",
    "    kgEntity += g.query(propertyValueQueryWD)\n",
    "    logging.debug('PropertyValue Query: %s' % propertyValueQueryWD)\n",
    "    kgEntity += g.query(sequenceRangeQueryWD)\n",
    "    logging.debug('SequenceRange Query: %s' % sequenceRangeQueryWD)\n",
    "#    # Attempt to generate provenance statements as per Wikidata\n",
    "#     u = uuid.uuid1()\n",
    "#     refNode = \"https://bioschemas.org/reference/\" + accession + \"-\" + str(u)\n",
    "#     query = createEntityProvenanceQuery.substitute(proteinIRI=protein,bsAccession=accession,refNodeIRI=refNode)\n",
    "#     print(query)\n",
    "#     kgEntity += g.query(query)\n",
    "    # Attempt to extract provenance data\n",
    "    query = createEntityProvenanceQueryWD.substitute(proteinIRI=protein)\n",
    "    logging.debug('Provenance Query: %s' % query)\n",
    "    provResult = g.query(query)\n",
    "    return kgEntity"
   ]
  },
  {
   "cell_type": "markdown",
   "metadata": {},
   "source": [
    "### OPS Approach Queries and Methods\n",
    "\n",
    "Queries and methods for storing the data in a graph per source file and metadata on the graph IRI."
   ]
  },
  {
   "cell_type": "markdown",
   "metadata": {},
   "source": [
    "Query to extract the graph and its metadata"
   ]
  },
  {
   "cell_type": "code",
   "execution_count": null,
   "metadata": {},
   "outputs": [],
   "source": [
    "provenanceQueryOPS = \"\"\"\n",
    "PREFIX pav: <http://purl.org/pav/>\n",
    "PREFIX prov: <http://www.w3.org/ns/prov#>\n",
    "CONSTRUCT {\n",
    "    ?g pav:retrievedFrom ?source ;\n",
    "        pav:retrievedOn ?date .\n",
    "}\n",
    "WHERE {\n",
    "    ?g pav:retrievedFrom ?source ;\n",
    "        pav:retrievedOn ?date .\n",
    "}\n",
    "\"\"\""
   ]
  },
  {
   "cell_type": "markdown",
   "metadata": {},
   "source": [
    "Templated query for creating the direct properties for a protein entity, i.e. the data."
   ]
  },
  {
   "cell_type": "code",
   "execution_count": null,
   "metadata": {},
   "outputs": [],
   "source": [
    "proteinQueryOPS = Template(\"\"\"\n",
    "# Query to convert Protein scraped data to BSKG OPS model\n",
    "# Defensive query: assumes that data does not conform to Protein profile\n",
    "\n",
    "PREFIX bs: <https://bioschemas.org/entity/>\n",
    "PREFIX pav: <http://purl.org/pav/>\n",
    "PREFIX schema: <https://schema.org/>\n",
    "\n",
    "CONSTRUCT {\n",
    "    bs:${bsAccession} a schema:Protein ;\n",
    "        schema:identifier ?identifier ;\n",
    "        schema:name ?name ;\n",
    "        schema:associatedDisease ?associatedDisease ;\n",
    "        schema:description ?description ;\n",
    "        schema:hasSequenceAnnotation ?annotation ;\n",
    "        schema:isEncodedByBioChemEntity ?encodedBy ;\n",
    "        schema:taxonomicRange ?taxonomicRange ;\n",
    "        schema:url ?url ;\n",
    "        schema:alternateName ?alternateName ;\n",
    "        schema:bioChemInteraction ?bioChemInteraction ;\n",
    "        schema:bioChemSimilarity ?bioChemSimilarity ;\n",
    "        schema:hasBioChemEntityPart ?bioChemEntity ;\n",
    "        schema:hasBioPloymerSequence ?sequence ;\n",
    "        schema:hasMolecularFunction ?molFunction ;\n",
    "        schema:hasRepresentation ?representation ;\n",
    "        schema:image ?image ;\n",
    "        schema:isInvolvedInBiologicalProcess ?process ;\n",
    "        schema:isLocatedInSubcellularLocation ?cellularLocation ;\n",
    "        schema:isPartOfBioChemEntity ?parentEntity ;\n",
    "        schema:sameAs ?sameAs , ?s .\n",
    "}\n",
    "WHERE {\n",
    "    GRAPH ?g {\n",
    "# Bioschemas Minimal Properties\n",
    "        ?s a schema:Protein .\n",
    "        OPTIONAL {?s schema:identifier ?identifier }\n",
    "        OPTIONAL {?s schema:name ?name }\n",
    "## Bioschemas Recommended properties\n",
    "        OPTIONAL {?s schema:associatedDisease ?associatedDisease}\n",
    "        OPTIONAL {?s schema:description ?description}\n",
    "        OPTIONAL {?s schema:hasSequenceAnnotation ?annotation }\n",
    "        OPTIONAL {?s schema:isEncodedByBioChemEntity ?encodedBy}\n",
    "        OPTIONAL {?s schema:taxonomicRange ?taxonomicRange }\n",
    "        OPTIONAL {?s schema:url ?url}\n",
    "## Bioschemas Optional properties\n",
    "        OPTIONAL {?s schema:alternateName ?alternateName}\n",
    "        OPTIONAL {?s schema:bioChemInteraction ?bioChemInteraction}\n",
    "        OPTIONAL {?s schema:bioChemSimilarity ?bioChemSimilarity}\n",
    "        OPTIONAL {?s schema:hasBioChemEntityPart ?bioChemEntity}\n",
    "        OPTIONAL {?s schema:hasBioPloymerSequence ?sequence}\n",
    "        OPTIONAL {?s schema:hasMolecularFunction ?molFunction}\n",
    "        OPTIONAL {?s schema:hasRepresentation ?representation }\n",
    "        OPTIONAL {?s schema:image ?image}\n",
    "        OPTIONAL {?s schema:isInvolvedInBiologicalProcess ?process}\n",
    "        OPTIONAL {?s schema:isLocatedInSubcellularLocation ?cellularLocation}\n",
    "        OPTIONAL {?s schema:isPartOfBioChemEntity ?parentEntity}\n",
    "        OPTIONAL {?s schema:sameAs ?sameAs }\n",
    "    }\n",
    "}\n",
    "\"\"\")"
   ]
  },
  {
   "cell_type": "markdown",
   "metadata": {},
   "source": [
    "Method for creating the KG entity and its metadata using the templated queries above."
   ]
  },
  {
   "cell_type": "code",
   "execution_count": null,
   "metadata": {},
   "outputs": [],
   "source": [
    "def createOPSKGEntity(g, ds, protein, uniprot, accession):\n",
    "    # Retrieve provenance of crawl and add to default graph\n",
    "    result = g.query(provenanceQueryOPS)\n",
    "    # Insert provenance into default context\n",
    "    for s, p, o in result:\n",
    "        ds.add((s, p, o))\n",
    "        # Store context of crawl\n",
    "        context = (s)\n",
    "    logging.debug('Context %s' % (context))\n",
    "    # Parameterise the query with the proteinIRI and accession\n",
    "    query = proteinQueryOPS.substitute(proteinIRI=protein,bsAccession=accession)\n",
    "    logging.debug('Query: %s' % query)\n",
    "    # Create context in Dataset for the crawled entity\n",
    "    ds_g = ds.graph(URIRef(context))\n",
    "    # Retrieve crawled entity\n",
    "    result = g.query(query)\n",
    "    logging.debug(\"\\tconvert query has %s statements.\" % len(result))\n",
    "    # Add crawled entity to Dataset\n",
    "    ds_g += result\n",
    "#     kgEntity += g.query(sequenceAnnotationsQueryWD)\n",
    "#     logging.debug('SequenceAnnotation Query: %s' % sequenceAnnotationsQueryWD)\n",
    "#     kgEntity += g.query(propertyValueQueryWD)\n",
    "#     logging.debug('PropertyValue Query: %s' % propertyValueQueryWD)\n",
    "#     kgEntity += g.query(sequenceRangeQueryWD)\n",
    "#     logging.debug('SequenceRange Query: %s' % sequenceRangeQueryWD)"
   ]
  },
  {
   "cell_type": "markdown",
   "metadata": {},
   "source": [
    "### Generic Queries and Methods\n",
    "\n",
    "Queries and methods shared by both approaches"
   ]
  },
  {
   "cell_type": "markdown",
   "metadata": {},
   "source": [
    "Query to extract source protein IRI and declared sameAs UniProt IRI"
   ]
  },
  {
   "cell_type": "code",
   "execution_count": null,
   "metadata": {},
   "outputs": [],
   "source": [
    "idQuery = \"\"\"\n",
    "PREFIX schema: <https://schema.org/>\n",
    "SELECT ?proteinIRI ?uniprot\n",
    "WHERE {\n",
    "    GRAPH ?g {\n",
    "        ?proteinIRI a schema:Protein ;\n",
    "            schema:sameAs ?uniprot .\n",
    "        FILTER regex(str(?uniprot), \"^(https://www|http://purl).uniprot.org/uniprot/\")\n",
    "    }\n",
    "}\n",
    "\"\"\""
   ]
  },
  {
   "cell_type": "markdown",
   "metadata": {},
   "source": [
    "### IDP Central Queries\n",
    "Function to extract just the triples that IDPCentral are using in their UI"
   ]
  },
  {
   "cell_type": "code",
   "execution_count": null,
   "metadata": {},
   "outputs": [],
   "source": [
    "idpQuery = \"\"\"\n",
    "PREFIX idp: <https://example.com/ipd/>\n",
    "PREFIX pav: <http://purl.org/pav/>\n",
    "PREFIX schema: <https://schema.org/>\n",
    "CONSTRUCT {\n",
    "    ?entry_url idp:name ?entry_name ;\n",
    "        idp:identifier ?entry_id ;\n",
    "        idp:sameAs ?uniprot_acc ;\n",
    "        idp:sequence_range [\n",
    "            idp:sequence_id ?sequenceID ;\n",
    "            idp:start ?start ;\n",
    "            idp:end ?end ;\n",
    "            idp:range_annotation ?range_annotation\n",
    "        ] ;\n",
    "        idp:resource_name ?source ;\n",
    "        idp:last_update ?date.\n",
    "}\n",
    "WHERE {\n",
    "    GRAPH ?g {\n",
    "        ?entry_url a schema:Protein ;\n",
    "            schema:identifier ?entry_id ;\n",
    "            schema:hasSequenceAnnotation ?sequenceID ;\n",
    "            schema:sameAs ?uniprot_acc .\n",
    "        OPTIONAL { \n",
    "            ?entry_url schema:name ?entry_name \n",
    "        }\n",
    "        FILTER regex(str(?uniprot_acc), \"^(https://www|http://purl).uniprot.org/uniprot/\")\n",
    "        ?sequenceID schema:sequenceLocation ?sequenceLocation .\n",
    "        OPTIONAL {\n",
    "            ?sequenceID schema:additionalProperty/schema:value/schema:name ?range_annotation \n",
    "        }\n",
    "        ?sequenceLocation schema:rangeStart ?start ;\n",
    "            schema:rangeEnd ?end.\n",
    "        ?g pav:retrievedFrom ?source ;\n",
    "            pav:retrievedOn ?date .\n",
    "    }\n",
    "}\n",
    "\"\"\"\n",
    "def idpExtraction(g):\n",
    "    logging.debug('Query: %s' % idpQuery)\n",
    "    results = g.query(idpQuery)\n",
    "    logging.debug('\\tQuery has %s statements.' % len(results))\n",
    "    return results"
   ]
  },
  {
   "cell_type": "markdown",
   "metadata": {},
   "source": [
    "### Data Extraction Control\n",
    "\n",
    "Methods to process over the data files and control the ETL process."
   ]
  },
  {
   "cell_type": "markdown",
   "metadata": {},
   "source": [
    "Function to run over all files in a specified directory"
   ]
  },
  {
   "cell_type": "code",
   "execution_count": null,
   "metadata": {},
   "outputs": [],
   "source": [
    "def processDataFiles(idpWDKG, idpOPSKG, idpModel, directoryLocation):\n",
    "    processed = 0\n",
    "    for file in glob(directoryLocation + \"*.nq\"):\n",
    "        logging.info(\"\\tProcessing file: %s\" % file)\n",
    "        g = ConjunctiveGraph()\n",
    "        g.parse(file, format=\"nquads\")\n",
    "        logging.info(\"\\tSource has %s statements.\" % len(g))\n",
    "        # Extract statements for IDPCentral\n",
    "        idpModel += idpExtraction(g)\n",
    "        logging.info(\"\\tIDPcentral has %s statements.\" % len(idpModel))\n",
    "        # Extract DisProt and UniProt IRIs\n",
    "        results = g.query(idQuery)\n",
    "        logging.info(\"\\tID query result has %s statements.\" % len(results))\n",
    "        # Convert to IDPCentral model\n",
    "        for result in results:\n",
    "            proteinIRI = result['proteinIRI']\n",
    "            uniprotIRI = result['uniprot']\n",
    "            logging.debug(\"\\tProtein: %s\\n\\tUniProt: %s\" % (proteinIRI, uniprotIRI))\n",
    "            \n",
    "            # Extract UniProt accession to use as an identifier in the Bioschemas namespace\n",
    "            uniprotAccession = uniprotIRI[uniprotIRI.rindex('/')+1:]\n",
    "            logging.info('Accession: %s' % uniprotAccession)\n",
    "\n",
    "            # Create entity for Wikidata approach\n",
    "            resGraph = createWDKGEntity(g, proteinIRI, uniprotIRI, uniprotAccession)\n",
    "            logging.debug(\"\\tconvert query has %s statements.\" % len(resGraph))\n",
    "            idpWDKG += resGraph\n",
    "            logging.info(\"\\tIDPKG-WD has %s statements.\" % len(idpWDKG))\n",
    "            \n",
    "            # Create entity for OPS approach\n",
    "            createOPSKGEntity(g, idpOPSKG, proteinIRI, uniprotIRI, uniprotAccession)\n",
    "            logging.info(\"\\tIDPKG-OPS has %s statements.\" % len(idpOPSKG))\n",
    "        processed += 1\n",
    "    return processed"
   ]
  },
  {
   "cell_type": "markdown",
   "metadata": {},
   "source": [
    "Function to output data files for a graph"
   ]
  },
  {
   "cell_type": "code",
   "execution_count": null,
   "metadata": {},
   "outputs": [],
   "source": [
    "def outputFiles(graph, label):\n",
    "    # print(graph.serialize(format='nt'))\n",
    "    logging.info(\"%s has %s statements.\" % (label, len(graph)))\n",
    "    graph.serialize(label+'.nt', format='nt')\n",
    "    graph.serialize(label+'.jsonld', format='json-ld')\n",
    "    logging.info('Successfully written all triples to %s.nt' % label)"
   ]
  },
  {
   "cell_type": "markdown",
   "metadata": {},
   "source": [
    "Read in each nq data file in turn\n",
    "\n",
    "Process each file and convert into IDPCentral model"
   ]
  },
  {
   "cell_type": "code",
   "execution_count": null,
   "metadata": {},
   "outputs": [],
   "source": [
    "idpWDKG = Graph()\n",
    "idpOPSKG = Dataset()\n",
    "idpModel = Graph()\n",
    "totalProcessed = 0\n",
    "\n",
    "print(\"Processing DisProt...\", end='')\n",
    "numberOfFiles = processDataFiles(idpWDKG, idpOPSKG, idpModel, \"../scraped-data/disprot/\")\n",
    "print(\"%d files processed\" % numberOfFiles)\n",
    "totalProcessed += numberOfFiles\n",
    "\n",
    "print(\"Processing MobiDB...\", end='')\n",
    "numberOfFiles = processDataFiles(idpWDKG, idpOPSKG, idpModel, \"../scraped-data/mobidb/\")\n",
    "print(\"%d files processed\" % numberOfFiles)\n",
    "totalProcessed += numberOfFiles\n",
    "\n",
    "print(\"Processing PED...\", end='')\n",
    "numberOfFiles = processDataFiles(idpWDKG, idpOPSKG, idpModel, \"../scraped-data/ped/\")\n",
    "print(\"%d files processed\" % numberOfFiles)\n",
    "totalProcessed += numberOfFiles\n",
    "\n",
    "outputFiles(idpModel, \"IDPCentral\")\n",
    "outputFiles(idpWDKG, \"IDPKG-WD\")\n",
    "# outputFiles(idpOPSKG, \"IDPKG-OPS\")\n",
    "logging.info('Processed %d files' % totalProcessed)\n",
    "\n",
    "assert (totalProcessed == 8), \"Expected 8 data files to be present!\"\n",
    "assert (len(idpWDKG) == 222), \"Expected 222 statements in IDP KG!\"\n",
    "assert (len(idpModel) == 120), \"Expected 120 statements in IDPcentral Model!\"\n",
    "print('\\nIDPcentral has %d statements.' % len(idpModel))\n",
    "print('IDP WD KG has %d statements.' % len(idpWDKG))\n",
    "print('IDP OPS KG has %d statements.' % len(idpOPSKG))\n",
    "print('IDP OPS KG has %d contexts.' % sum(1 for _ in idpOPSKG.contexts()))\n",
    "print('IDP OPS contexts:', '')\n",
    "for c in idpOPSKG.contexts():\n",
    "    print('\\t%s' % c)\n",
    "    print('\\tNumber of statements %d' % len(c))\n",
    "idpOPSKG.serialize('IDPKG-OPS.nq', format='nquads')\n",
    "idpOPSKG.serialize('IDPKG-OPS.jsonld', format='json-ld')\n",
    "print('\\nIDP ETL process finished successfully!')"
   ]
  },
  {
   "cell_type": "markdown",
   "metadata": {},
   "source": [
    "Expecting:\n",
    "- 8 files to have been procesed\n",
    "  - 3 from DisProt\n",
    "  - 2 from MobiDB\n",
    "  - 3 from PED\n",
    "- IDPKG should have 222 statements\n",
    "  - DisProt\n",
    "    - 53 after 2241.nq\n",
    "    - 91 after 2243.nq\n",
    "    - no additional statements from 2244.nq\n",
    "  - mobiDB\n",
    "    - 116 after 4283.nq\n",
    "    - 134 additional statements from 5729.nq\n",
    "  - PED\n",
    "    - 152 statements after 6000.nq\n",
    "    - 198 statements after 6001.nq\n",
    "    - 222 statements after 5999.nq\n",
    "- IDPCentral should have 68 statements\n",
    "  - DisProt\n",
    "    - 24 after 2241.nq\n",
    "    - 41 after 2243.nq\n",
    "    - no additional statements from 2244.nq\n",
    "  - mobiDB\n",
    "    - 58 after 4283.nq\n",
    "    - 68 additional statements from 5729.nq\n",
    "  - PED\n",
    "    - 76 statements after 6000.nq\n",
    "    - 112 statements after 6001.nq\n",
    "    - 120 statements after 5999.nq"
   ]
  },
  {
   "cell_type": "markdown",
   "metadata": {},
   "source": [
    "### Incorporating PED into the Pipeline\n",
    "\n",
    "File 6000.nq corresponds to entry [PED00148](https://proteinensemble.org/PED00148). There is valid markup on the page. Something in BMUSE is preventing this from coming through to the scraped data.\n",
    "\n",
    "File 5999.nq corresponds to entry [PED00001](http://proteinensemble.org/PED00001). The markup shows one protein component.\n",
    "\n",
    "File 6001.nq corresponds to entry [PED00174](http://proteinensemble.org/PED00174). The markup shows 3 protein components.\n",
    "\n",
    "- [X] Follow up with Petros as to whether BMUSE fixes mean that a new scrape of this content would now work.\n",
    "- [ ] Rescraped data uses same IRI for DataRecord and BioChemEntity; BioChemEntity needs `#DR` removed from the `@id` value\n",
    "- [ ] `createdWith` needs to be a IRI, it can have values from it\n",
    "- [ ] Use of `#DR` has undesirable effect for BMUSE's use of `retrieveFrom`"
   ]
  },
  {
   "cell_type": "markdown",
   "metadata": {},
   "source": [
    "## Querying the IDP Knowledge Graphs\n",
    "\n",
    "In the previous section we have created two knowledge graph representations of the IDPcentral data. In this section we will compare the two approaches by querying the knowledge graphs."
   ]
  },
  {
   "cell_type": "markdown",
   "metadata": {},
   "source": [
    "### Support Function\n",
    "\n",
    "Function to print SPARQL results."
   ]
  },
  {
   "cell_type": "code",
   "execution_count": null,
   "metadata": {},
   "outputs": [],
   "source": [
    "def displayResults(results):\n",
    "    for row in results.bindings:\n",
    "        for col in row:\n",
    "            print(col, row[col], end = '\\t')\n",
    "        print()"
   ]
  },
  {
   "cell_type": "code",
   "execution_count": null,
   "metadata": {},
   "outputs": [],
   "source": [
    "# print(\"json\", result.serialize(format=\"json\"))\n",
    "# for row in result:\n",
    "#     print(row)\n",
    "# print(result.serialize(format=\"json\"))"
   ]
  },
  {
   "cell_type": "markdown",
   "metadata": {},
   "source": [
    "### Knowledge Graph Statistics"
   ]
  },
  {
   "cell_type": "markdown",
   "metadata": {},
   "source": [
    "#### Number of Triples"
   ]
  },
  {
   "cell_type": "markdown",
   "metadata": {},
   "source": [
    "##### Wikidata Approach"
   ]
  },
  {
   "cell_type": "code",
   "execution_count": null,
   "metadata": {},
   "outputs": [],
   "source": [
    "triples = idpWDKG.query(\"SELECT (COUNT(*) AS ?triples) { ?s ?p ?o  }\")\n",
    "displayResults(triples)"
   ]
  },
  {
   "cell_type": "markdown",
   "metadata": {},
   "source": [
    "##### Named Graph Approach"
   ]
  },
  {
   "cell_type": "code",
   "execution_count": null,
   "metadata": {},
   "outputs": [],
   "source": [
    "triples = idpOPSKG.query(\"SELECT (COUNT(*) AS ?triples) { { ?s ?p ?o } UNION { GRAPH ?g {?s ?p ?o  }}}\")   \n",
    "displayResults(triples)"
   ]
  },
  {
   "cell_type": "markdown",
   "metadata": {},
   "source": [
    "#### Number of Typed Entities"
   ]
  },
  {
   "cell_type": "markdown",
   "metadata": {},
   "source": [
    "##### Wikidata Approach"
   ]
  },
  {
   "cell_type": "code",
   "execution_count": null,
   "metadata": {},
   "outputs": [],
   "source": [
    "entities = idpWDKG.query(\"SELECT (COUNT(DISTINCT ?s) AS ?entities) { ?s a [] }\")\n",
    "displayResults(entities)"
   ]
  },
  {
   "cell_type": "markdown",
   "metadata": {},
   "source": [
    "##### Named Graph Approach"
   ]
  },
  {
   "cell_type": "code",
   "execution_count": null,
   "metadata": {},
   "outputs": [],
   "source": [
    "entities = idpOPSKG.query(\"SELECT (COUNT(?s) AS ?entities) { { ?s a [] } UNION { GRAPH ?g { ?s a [] }}}\")\n",
    "displayResults(entities)"
   ]
  },
  {
   "cell_type": "markdown",
   "metadata": {},
   "source": [
    "#### Instances per Class"
   ]
  },
  {
   "cell_type": "markdown",
   "metadata": {},
   "source": [
    "##### Wikidata Approach"
   ]
  },
  {
   "cell_type": "code",
   "execution_count": null,
   "metadata": {
    "scrolled": true
   },
   "outputs": [],
   "source": [
    "classCountQuery = \"\"\"\n",
    "PREFIX schema: <https://schema.org/>\n",
    "PREFIX pav: <http://purl.org/pav/>\n",
    "SELECT ?Class (COUNT(DISTINCT ?s) AS ?distinctInstances) \n",
    "{ ?s a ?Class } \n",
    "GROUP BY ?Class\n",
    "\"\"\"\n",
    "classCounts = idpWDKG.query(classCountQuery)\n",
    "displayResults(classCounts)"
   ]
  },
  {
   "cell_type": "markdown",
   "metadata": {},
   "source": [
    "##### Named Graph Approach"
   ]
  },
  {
   "cell_type": "code",
   "execution_count": null,
   "metadata": {},
   "outputs": [],
   "source": [
    "classCountQuery = \"\"\"\n",
    "PREFIX schema: <https://schema.org/>\n",
    "PREFIX pav: <http://purl.org/pav/>\n",
    "SELECT ?Class (COUNT(DISTINCT ?s) AS ?distinctInstances) \n",
    "{\n",
    "    GRAPH ?g {\n",
    "        ?s a ?Class\n",
    "    }\n",
    "} \n",
    "GROUP BY ?Class\n",
    "\"\"\"\n",
    "classCounts = idpOPSKG.query(classCountQuery)\n",
    "displayResults(classCounts)"
   ]
  },
  {
   "cell_type": "markdown",
   "metadata": {},
   "source": [
    "### Find proteins in multiple datasets\n",
    "\n",
    "#### Wikidata Approach\n",
    "Provenance information about the sources of triples has been included as a direct assertion on the protein resource. It will include multiple declarations if the triples about the protein have come from multiple pages. We cannot distinguish where any individual statement has come from. \n",
    "\n",
    "To find proteins with multiple sources, we need to group by the protein id and then use a `HAVING` clause to if there are more than two datasets. The datasets can be listed using a `GROUP_CONCAT` oeprator."
   ]
  },
  {
   "cell_type": "code",
   "execution_count": null,
   "metadata": {},
   "outputs": [],
   "source": [
    "proteinQuery = \"\"\"\n",
    "PREFIX schema: <https://schema.org/>\n",
    "PREFIX pav: <http://purl.org/pav/>\n",
    "SELECT ?protein (COUNT(?source) as ?numSources) (GROUP_CONCAT(?source;SEPARATOR=\",\") AS ?sources)\n",
    "WHERE {\n",
    "    ?protein a schema:Protein ;\n",
    "        pav:retrievedFrom ?source .\n",
    "}\n",
    "GROUP BY ?protein\n",
    "HAVING (COUNT(*) > 1)\n",
    "\"\"\"\n",
    "proteins = idpWDKG.query(proteinQuery)\n",
    "displayResults(proteins)"
   ]
  },
  {
   "cell_type": "markdown",
   "metadata": {},
   "source": [
    "#### Named Graph Approach"
   ]
  },
  {
   "cell_type": "markdown",
   "metadata": {},
   "source": [
    "Provenance information is stored in the default graph as annotations on graph. "
   ]
  },
  {
   "cell_type": "markdown",
   "metadata": {},
   "source": [
    "A protein comes from multiple sources if the triple is found in multiple named graphs. The number of named graphs containing the triple indicates the number of sources containing the triple."
   ]
  },
  {
   "cell_type": "code",
   "execution_count": null,
   "metadata": {},
   "outputs": [],
   "source": [
    "proteinQuery = \"\"\"\n",
    "PREFIX schema: <https://schema.org/>\n",
    "PREFIX pav: <http://purl.org/pav/>\n",
    "SELECT ?protein (COUNT(?g) as ?numSources) (GROUP_CONCAT(?source;SEPARATOR=\",\") AS ?sources)\n",
    "WHERE {\n",
    "    GRAPH ?g {\n",
    "        ?protein a schema:Protein .\n",
    "    }\n",
    "    ?g pav:retrievedFrom ?source .\n",
    "}\n",
    "GROUP BY ?protein\n",
    "HAVING (COUNT(*) > 1)\n",
    "\"\"\"\n",
    "proteins = idpOPSKG.query(proteinQuery)\n",
    "displayResults(proteins)"
   ]
  },
  {
   "cell_type": "markdown",
   "metadata": {},
   "source": [
    "### Find proteins with annotations in multiple datasets\n",
    "Again we exploit the multiplicity of identifiers to check for multiple datasets. However, we now explicitly check that there are two; again we could add more.\n",
    "\n",
    "Note that we have changed to a `CONSTRUCT` query since we end up with a duplicate rows in a tuple bindings approach since the identifiers can be bound first one way and then the other.\n",
    "\n",
    "#### Problem\n",
    "The problem with this query is that it only checks that the protein appears in both datasets, it does not check that the annotations come from different datasets.\n",
    "\n",
    "#### Possible Solution\n",
    "For each protein and annotation, add a statement stating the sources that it has come from in the data, or alternatively have a named graph per source."
   ]
  },
  {
   "cell_type": "code",
   "execution_count": null,
   "metadata": {},
   "outputs": [],
   "source": [
    "proteinAnnotationQuery = \"\"\"\n",
    "PREFIX schema: <https://schema.org/>\n",
    "CONSTRUCT {\n",
    "    ?protein a schema:Protein ;\n",
    "        schema:name ?proteinName ;\n",
    "        schema:identifier ?id1, ?id2 ;\n",
    "        schema:hasSequenceAnnotation [\n",
    "            schema:description ?annotationDescription \n",
    "        ].\n",
    "}\n",
    "WHERE {\n",
    "    ?protein a schema:Protein ;\n",
    "        schema:name ?proteinName ;\n",
    "        schema:identifier ?id1, ?id2 ;\n",
    "        schema:hasSequenceAnnotation ?annotation .\n",
    "    OPTIONAL {?annotation schema:description ?annotationDescription }\n",
    "    FILTER (?id1 != ?id2) .\n",
    "}\n",
    "    \n",
    "\"\"\"\n",
    "print(idpWDKG.query(proteinAnnotationQuery).serialize(format='n3'))"
   ]
  },
  {
   "cell_type": "markdown",
   "metadata": {},
   "source": [
    "### Find proteins  with annotations in only one source"
   ]
  },
  {
   "cell_type": "code",
   "execution_count": null,
   "metadata": {},
   "outputs": [],
   "source": []
  },
  {
   "cell_type": "markdown",
   "metadata": {},
   "source": [
    "### Find proteins with annotations of type X"
   ]
  },
  {
   "cell_type": "code",
   "execution_count": null,
   "metadata": {},
   "outputs": [],
   "source": []
  },
  {
   "cell_type": "markdown",
   "metadata": {},
   "source": [
    "### Find annotations with identical ranges"
   ]
  },
  {
   "cell_type": "code",
   "execution_count": null,
   "metadata": {},
   "outputs": [],
   "source": []
  },
  {
   "cell_type": "markdown",
   "metadata": {},
   "source": [
    "### Find annotations with overlapping ranges"
   ]
  },
  {
   "cell_type": "code",
   "execution_count": null,
   "metadata": {},
   "outputs": [],
   "source": []
  }
 ],
 "metadata": {
  "kernelspec": {
   "display_name": "Python 3",
   "language": "python",
   "name": "python3"
  },
  "language_info": {
   "codemirror_mode": {
    "name": "ipython",
    "version": 3
   },
   "file_extension": ".py",
   "mimetype": "text/x-python",
   "name": "python",
   "nbconvert_exporter": "python",
   "pygments_lexer": "ipython3",
   "version": "3.6.5"
  },
  "toc": {
   "base_numbering": 1,
   "nav_menu": {},
   "number_sections": true,
   "sideBar": true,
   "skip_h1_title": false,
   "title_cell": "Table of Contents",
   "title_sidebar": "Contents",
   "toc_cell": false,
   "toc_position": {},
   "toc_section_display": true,
   "toc_window_display": false
  }
 },
 "nbformat": 4,
 "nbformat_minor": 2
}
